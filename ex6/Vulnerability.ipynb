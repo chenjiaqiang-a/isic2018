{
 "cells": [
  {
   "cell_type": "markdown",
   "metadata": {},
   "source": [
    "# 实验6: 神经网络的脆弱性"
   ]
  },
  {
   "cell_type": "code",
   "execution_count": 1,
   "metadata": {},
   "outputs": [],
   "source": [
    "import torch\n",
    "import numpy as np\n",
    "import warnings\n",
    "warnings.filterwarnings('ignore')\n",
    "\n",
    "import sys\n",
    "sys.path.append(r\"..\")\n",
    "import utils"
   ]
  },
  {
   "cell_type": "code",
   "execution_count": 2,
   "metadata": {},
   "outputs": [],
   "source": [
    "BATCH_SIZE = 8\n",
    "NUM_WORKERS = 0\n",
    "\n",
    "device = torch.device(\"cuda\" if torch.cuda.is_available() else \"cpu\")"
   ]
  },
  {
   "cell_type": "markdown",
   "metadata": {},
   "source": [
    "## Data"
   ]
  },
  {
   "cell_type": "code",
   "execution_count": 3,
   "metadata": {},
   "outputs": [],
   "source": [
    "from utils import ISIC2018Dataset\n",
    "from torchvision import transforms\n",
    "from torch.utils.data import DataLoader"
   ]
  },
  {
   "cell_type": "code",
   "execution_count": 4,
   "metadata": {},
   "outputs": [],
   "source": [
    "trans_test = transforms.Compose([\n",
    "    transforms.Resize(224),\n",
    "    transforms.CenterCrop(224),\n",
    "    transforms.ToTensor(),\n",
    "    # transforms.Normalize(mean=[0.485, 0.456, 0.406],\n",
    "    #                      std=[0.229, 0.224, 0.225])\n",
    "])\n",
    "\n",
    "test_data = ISIC2018Dataset('../../Robust-Skin-Lesion-Diagnosis/Data/2018/Test_GroundTruth.csv',\n",
    "                            '../../Robust-Skin-Lesion-Diagnosis/Data/2018/ISIC2018_Task3_Training_Input', trans_test)\n",
    "num_test = len(test_data)\n",
    "\n",
    "test_loader = DataLoader(test_data, BATCH_SIZE, num_workers=NUM_WORKERS)"
   ]
  },
  {
   "cell_type": "markdown",
   "metadata": {},
   "source": [
    "## Model"
   ]
  },
  {
   "cell_type": "code",
   "execution_count": 5,
   "metadata": {},
   "outputs": [],
   "source": [
    "import torch.nn as nn\n",
    "\n",
    "class Normalize(nn.Module):\n",
    "    def __init__(self, mean, std) :\n",
    "        super(Normalize, self).__init__()\n",
    "        self.register_buffer('mean', torch.Tensor(mean))\n",
    "        self.register_buffer('std', torch.Tensor(std))\n",
    "        \n",
    "    def forward(self, input):\n",
    "        # Broadcasting\n",
    "        mean = self.mean.reshape(1, 3, 1, 1)\n",
    "        std = self.std.reshape(1, 3, 1, 1)\n",
    "        return (input - mean) / std\n",
    "\n",
    "\n",
    "class NormModel(nn.Module):\n",
    "    \"\"\"\n",
    "    Add a normalization layer to a network, in order to help to restrict the adversarial examples to images\n",
    "    \"\"\"\n",
    "    def __init__(self, model, mean=[0.485, 0.456, 0.406], std=[0.229, 0.224, 0.225]):\n",
    "        super().__init__()\n",
    "        self.norm_layer = Normalize(mean, std)\n",
    "        self.net = model\n",
    "\n",
    "    def forward(self, x):\n",
    "        x = self.norm_layer(x)\n",
    "        x = self.net(x)\n",
    "        return x"
   ]
  },
  {
   "cell_type": "code",
   "execution_count": 6,
   "metadata": {},
   "outputs": [],
   "source": [
    "model = torch.load('1-1-1.pkl')\n",
    "model = NormModel(model).to(device)"
   ]
  },
  {
   "cell_type": "markdown",
   "metadata": {},
   "source": [
    "## Adversarial Attacks"
   ]
  },
  {
   "cell_type": "code",
   "execution_count": 7,
   "metadata": {},
   "outputs": [],
   "source": [
    "from attacks import Normal, FGSM, PGD\n",
    "from sklearn import metrics"
   ]
  },
  {
   "cell_type": "code",
   "execution_count": 8,
   "metadata": {},
   "outputs": [],
   "source": [
    "def robust_eval(Attack, params):\n",
    "    atk = Attack(model, **params)\n",
    "    label = []\n",
    "    pred = []\n",
    "    for x, y in test_loader:\n",
    "        x, y = x.to(device), y.to(device)\n",
    "        x = atk(x, y)\n",
    "        z = model(x)\n",
    "        _, yhat = torch.max(z.data, 1)\n",
    "        label = np.concatenate((label, y.to('cpu')), axis=-1)\n",
    "        pred = np.concatenate((pred, yhat.to('cpu')), axis=-1)\n",
    "        \n",
    "    report = metrics.classification_report(label, pred, target_names=['MEL', 'NV', 'BCC', 'AKIEC', 'BKL', 'DF', 'VASC'], digits=3)\n",
    "    print(\"{}\\n{}\".format(atk, report))\n"
   ]
  },
  {
   "cell_type": "code",
   "execution_count": 9,
   "metadata": {},
   "outputs": [
    {
     "name": "stdout",
     "output_type": "stream",
     "text": [
      "Normal(model_name=NormModel, eps=0.03137254901960784)\n",
      "              precision    recall  f1-score   support\n",
      "\n",
      "         MEL      0.465     0.509     0.486       283\n",
      "          NV      0.929     0.741     0.825      1671\n",
      "         BCC      0.774     0.205     0.324       117\n",
      "       AKIEC      0.000     0.000     0.000        83\n",
      "         BKL      0.327     0.855     0.473       289\n",
      "          DF      0.348     0.296     0.320        27\n",
      "        VASC      0.580     0.853     0.690        34\n",
      "\n",
      "    accuracy                          0.675      2504\n",
      "   macro avg      0.489     0.494     0.445      2504\n",
      "weighted avg      0.758     0.675     0.688      2504\n",
      "\n",
      "FGSM(model_name=NormModel, eps=0.007, loss=CrossEntropyLoss())\n",
      "              precision    recall  f1-score   support\n",
      "\n",
      "         MEL      0.046     0.053     0.049       283\n",
      "          NV      0.717     0.353     0.473      1671\n",
      "         BCC      0.055     0.068     0.061       117\n",
      "       AKIEC      0.000     0.000     0.000        83\n",
      "         BKL      0.094     0.325     0.146       289\n",
      "          DF      0.000     0.000     0.000        27\n",
      "        VASC      0.072     0.353     0.119        34\n",
      "\n",
      "    accuracy                          0.287      2504\n",
      "   macro avg      0.141     0.165     0.121      2504\n",
      "weighted avg      0.498     0.287     0.343      2504\n",
      "\n",
      "PGD(model_name=NormModel, eps=0.03137254901960784, alpha=0.00784313725490196, steps=10, random_start=False, loss=CrossEntropyLoss())\n",
      "              precision    recall  f1-score   support\n",
      "\n",
      "         MEL      0.000     0.000     0.000     283.0\n",
      "          NV      0.000     0.000     0.000    1671.0\n",
      "         BCC      0.000     0.000     0.000     117.0\n",
      "       AKIEC      0.000     0.000     0.000      83.0\n",
      "         BKL      0.000     0.000     0.000     289.0\n",
      "          DF      0.000     0.000     0.000      27.0\n",
      "        VASC      0.000     0.000     0.000      34.0\n",
      "\n",
      "    accuracy                          0.000    2504.0\n",
      "   macro avg      0.000     0.000     0.000    2504.0\n",
      "weighted avg      0.000     0.000     0.000    2504.0\n",
      "\n"
     ]
    }
   ],
   "source": [
    "Attacks = [Normal, FGSM, PGD]\n",
    "params = [{'eps': 8/255}, {'eps': 0.007}, {'eps': 8/255, 'alpha': 2/255, 'steps': 10, 'random_start': False}]\n",
    "\n",
    "for Attack, param in zip(Attacks, params):\n",
    "    robust_eval(Attack, param)"
   ]
  },
  {
   "cell_type": "code",
   "execution_count": 10,
   "metadata": {},
   "outputs": [],
   "source": [
    "def clean_eval():\n",
    "    label = []\n",
    "    pred = []\n",
    "    for x, y in test_loader:\n",
    "        x, y = x.to(device), y.to(device)\n",
    "        z = model(x)\n",
    "        _, yhat = torch.max(z.data, 1)\n",
    "        label = np.concatenate((label, y.to('cpu')), axis=-1)\n",
    "        pred = np.concatenate((pred, yhat.to('cpu')), axis=-1)\n",
    "        \n",
    "    report = metrics.classification_report(label, pred, target_names=['MEL', 'NV', 'BCC', 'AKIEC', 'BKL', 'DF', 'VASC'], digits=3)\n",
    "    print(\"{}\\n{}\".format('CLEAN', report))"
   ]
  },
  {
   "cell_type": "code",
   "execution_count": 11,
   "metadata": {},
   "outputs": [
    {
     "name": "stdout",
     "output_type": "stream",
     "text": [
      "CLEAN\n",
      "              precision    recall  f1-score   support\n",
      "\n",
      "         MEL      0.743     0.562     0.640       283\n",
      "          NV      0.903     0.959     0.930      1671\n",
      "         BCC      0.694     0.735     0.714       117\n",
      "       AKIEC      0.667     0.578     0.619        83\n",
      "         BKL      0.780     0.689     0.732       289\n",
      "          DF      0.680     0.630     0.654        27\n",
      "        VASC      0.769     0.882     0.822        34\n",
      "\n",
      "    accuracy                          0.855      2504\n",
      "   macro avg      0.748     0.719     0.730      2504\n",
      "weighted avg      0.849     0.855     0.850      2504\n",
      "\n"
     ]
    }
   ],
   "source": [
    "clean_eval()"
   ]
  }
 ],
 "metadata": {
  "interpreter": {
   "hash": "06bb3c3ef4a880548ecfc5dc8501d178eb29b729421bcd01924945e985691c69"
  },
  "kernelspec": {
   "display_name": "Python (lab)",
   "language": "python",
   "name": "lab"
  },
  "language_info": {
   "codemirror_mode": {
    "name": "ipython",
    "version": 3
   },
   "file_extension": ".py",
   "mimetype": "text/x-python",
   "name": "python",
   "nbconvert_exporter": "python",
   "pygments_lexer": "ipython3",
   "version": "3.8.0"
  }
 },
 "nbformat": 4,
 "nbformat_minor": 4
}
