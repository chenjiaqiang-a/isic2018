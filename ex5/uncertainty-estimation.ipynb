{
 "cells": [
  {
   "cell_type": "code",
   "execution_count": 1,
   "id": "d8ddde21",
   "metadata": {
    "execution": {
     "iopub.execute_input": "2022-05-16T13:55:25.137477Z",
     "iopub.status.busy": "2022-05-16T13:55:25.136690Z",
     "iopub.status.idle": "2022-05-16T13:55:26.799641Z",
     "shell.execute_reply": "2022-05-16T13:55:26.798890Z"
    },
    "papermill": {
     "duration": 1.689213,
     "end_time": "2022-05-16T13:55:26.801770",
     "exception": false,
     "start_time": "2022-05-16T13:55:25.112557",
     "status": "completed"
    },
    "tags": []
   },
   "outputs": [],
   "source": [
    "import torch\n",
    "import os\n",
    "import numpy as np\n",
    "\n",
    "import warnings\n",
    "warnings.filterwarnings('ignore')"
   ]
  },
  {
   "cell_type": "code",
   "execution_count": 2,
   "id": "8ca0f179",
   "metadata": {
    "execution": {
     "iopub.execute_input": "2022-05-16T13:55:26.844266Z",
     "iopub.status.busy": "2022-05-16T13:55:26.843955Z",
     "iopub.status.idle": "2022-05-16T13:55:26.896473Z",
     "shell.execute_reply": "2022-05-16T13:55:26.895643Z"
    },
    "papermill": {
     "duration": 0.075345,
     "end_time": "2022-05-16T13:55:26.898135",
     "exception": false,
     "start_time": "2022-05-16T13:55:26.822790",
     "status": "completed"
    },
    "tags": []
   },
   "outputs": [],
   "source": [
    "BATCH_SIZE = 64\n",
    "NUM_WORKERS = 2\n",
    "RANDOM_SEED = 123\n",
    "NOISE_RATE = 0.1\n",
    "CLASS_NUM = 7\n",
    "\n",
    "device = torch.device(\"cuda\" if torch.cuda.is_available() else \"cpu\")"
   ]
  },
  {
   "cell_type": "code",
   "execution_count": 3,
   "id": "82dd07aa",
   "metadata": {
    "execution": {
     "iopub.execute_input": "2022-05-16T13:55:26.938793Z",
     "iopub.status.busy": "2022-05-16T13:55:26.938590Z",
     "iopub.status.idle": "2022-05-16T13:55:26.947267Z",
     "shell.execute_reply": "2022-05-16T13:55:26.946480Z"
    },
    "jupyter": {
     "source_hidden": true
    },
    "papermill": {
     "duration": 0.031143,
     "end_time": "2022-05-16T13:55:26.949132",
     "exception": false,
     "start_time": "2022-05-16T13:55:26.917989",
     "status": "completed"
    },
    "tags": []
   },
   "outputs": [],
   "source": [
    "import logging\n",
    "import time\n",
    "\n",
    "class Logger:\n",
    "    def __init__(self, mode='exp', title=''):\n",
    "        \"\"\" log\n",
    "\n",
    "        Args:\n",
    "            mode (str): 'exp' or 'debug'. Defaults to 'exp', otherwise will not produce log gile.\n",
    "            title (str): subdir name to store log file. Defaults to \"\".\n",
    "        \"\"\"\n",
    "        # create logger\n",
    "        self.logger = logging.getLogger()\n",
    "        self.logger.setLevel(logging.INFO)  # setting level\n",
    "        formatter_fh = logging.Formatter(\"[%(asctime)s] %(message)s\")\n",
    "        formatter_ch = logging.Formatter(\"%(message)s\")\n",
    "\n",
    "        # create file handler\n",
    "        # setting path for logfile\n",
    "        start_time = time.strftime('%y-%m-%d-%H%M', time.localtime(time.time()))\n",
    "        log_path = os.path.join(os.getcwd(), 'logs', title)\n",
    "        if not os.path.exists(log_path):\n",
    "            os.makedirs(log_path)       \n",
    "        log_name = os.path.join(log_path, start_time + '.log')\n",
    "        \n",
    "        if mode == 'exp': \n",
    "            fh = logging.FileHandler(log_name, mode='w')\n",
    "            fh.setLevel(logging.INFO)  # setting level for outputs in logfile\n",
    "            ## define format\n",
    "            fh.setFormatter(formatter_fh)\n",
    "            ## add handeler to the logger\n",
    "            self.logger.addHandler(fh)\n",
    "\n",
    "        # console handeler\n",
    "        ch = logging.StreamHandler()\n",
    "        ch.setLevel(logging.INFO)\n",
    "        ch.setFormatter(formatter_ch)\n",
    "        self.logger.addHandler(ch)"
   ]
  },
  {
   "cell_type": "code",
   "execution_count": 4,
   "id": "bf14c26e",
   "metadata": {
    "execution": {
     "iopub.execute_input": "2022-05-16T13:55:27.015275Z",
     "iopub.status.busy": "2022-05-16T13:55:27.014988Z",
     "iopub.status.idle": "2022-05-16T13:55:27.031467Z",
     "shell.execute_reply": "2022-05-16T13:55:27.030396Z"
    },
    "papermill": {
     "duration": 0.060522,
     "end_time": "2022-05-16T13:55:27.037835",
     "exception": false,
     "start_time": "2022-05-16T13:55:26.977313",
     "status": "completed"
    },
    "tags": []
   },
   "outputs": [
    {
     "name": "stderr",
     "output_type": "stream",
     "text": [
      "1-1-1\n"
     ]
    }
   ],
   "source": [
    "# log file\n",
    "model_id = '1'\n",
    "exp_id = '1-1'\n",
    "model_name = exp_id + '-' + model_id\n",
    "log = Logger(mode='exp', title=exp_id)\n",
    "log.logger.info(\"{}\".format(model_name))"
   ]
  },
  {
   "cell_type": "markdown",
   "id": "4b81fffb",
   "metadata": {
    "papermill": {
     "duration": 0.022071,
     "end_time": "2022-05-16T13:55:27.089945",
     "exception": false,
     "start_time": "2022-05-16T13:55:27.067874",
     "status": "completed"
    },
    "tags": []
   },
   "source": [
    "**Data**"
   ]
  },
  {
   "cell_type": "code",
   "execution_count": 5,
   "id": "be6232cf",
   "metadata": {
    "execution": {
     "iopub.execute_input": "2022-05-16T13:55:27.137762Z",
     "iopub.status.busy": "2022-05-16T13:55:27.137269Z",
     "iopub.status.idle": "2022-05-16T13:55:27.406514Z",
     "shell.execute_reply": "2022-05-16T13:55:27.405693Z"
    },
    "papermill": {
     "duration": 0.296172,
     "end_time": "2022-05-16T13:55:27.409276",
     "exception": false,
     "start_time": "2022-05-16T13:55:27.113104",
     "status": "completed"
    },
    "tags": []
   },
   "outputs": [],
   "source": [
    "from torchvision import transforms\n",
    "from torch.utils import data\n",
    "from PIL import Image\n",
    "from numpy.testing import assert_array_almost_equal\n",
    "import pandas as pd\n",
    "\n",
    "\n",
    "class NoisyISIC2018(data.Dataset):\n",
    "    def __init__(self, ann_file: str, img_dir: str, transform=None, target_transform=None,\n",
    "                 noise_type: str = 'symmetric', noise_rate: float = 0.1, random_state: int = 123):\n",
    "        \"\"\" ISIC 2018 Dataset with noisy labels\n",
    "\n",
    "        Args:\n",
    "            ann_file (str): csv annotation file path\n",
    "            img_dir (str): directory path of images\n",
    "            transform: input transformation\n",
    "            target_transform: target transformation\n",
    "            noise_type (str): noise type ('symmetric', 'asymmetric'). Defaults to 'symmetric'.\n",
    "            noise_rate (float): rate of noise. Defaults to 0.1.\n",
    "            random_state (int): random seed. Defaults to 123.\n",
    "        \"\"\"\n",
    "        self.img_dir = img_dir\n",
    "        self.transform = transform\n",
    "        self.target_transform = target_transform\n",
    "        self.noise_type = noise_type\n",
    "        self.noise_rate = noise_rate\n",
    "        self.img_ids, self.clean_labels = self._csv_reader(ann_file)\n",
    "        self.class_num = len(self.categories)\n",
    "        self.noisy_labels, self.actual_noise_rate = noisify(\n",
    "            self.clean_labels, self.noise_type, self.noise_rate, self.class_num, random_state)\n",
    "        print(\"Actual noise rate: {:.4f}\".format(self.actual_noise_rate))\n",
    "\n",
    "    def _csv_reader(self, csv_file):\n",
    "        df = pd.read_csv(csv_file, header=0)\n",
    "        self.categories = list(df.columns)[1:]\n",
    "        self.class_dict = {}\n",
    "        self.label_dict = {}\n",
    "        for i, name in enumerate(self.categories):\n",
    "            self.class_dict[name] = i\n",
    "            self.label_dict[i] = name\n",
    "        df['label'] = df.select_dtypes(['number']).idxmax(axis=1)\n",
    "        df['label'] = df['label'].apply(lambda x: self.class_dict[x])\n",
    "        img_ids = list(df['image'])\n",
    "        labels = np.array(list(df['label']), dtype=np.int64)\n",
    "        return img_ids, labels\n",
    "\n",
    "    def __getitem__(self, idx):\n",
    "        \"\"\"\n",
    "        Args:\n",
    "            idx (int): Index\n",
    "\n",
    "        Returns:\n",
    "            tuple: (image, clean_label, noisy_label)\n",
    "        \"\"\"\n",
    "\n",
    "        pth_img = os.path.join(self.img_dir, self.img_ids[idx] + '.jpg')\n",
    "        img = Image.open(pth_img)\n",
    "        clean_label = self.clean_labels[idx]\n",
    "        noisy_label = self.noisy_labels[idx]\n",
    "\n",
    "        if self.transform is not None:\n",
    "            img = self.transform(img)\n",
    "\n",
    "        if self.target_transform is not None:\n",
    "            clean_label = self.target_transform(clean_label)\n",
    "            noisy_label = self.target_transform(noisy_label)\n",
    "\n",
    "        return img, clean_label, noisy_label\n",
    "\n",
    "    def __len__(self):\n",
    "        return len(self.img_ids)\n",
    "\n",
    "    def to_names(self, nums):\n",
    "        \"\"\" convert a goup of indices to string names \n",
    "        \n",
    "        Args:\n",
    "            nums(torch.Tensor): a list of number labels\n",
    "\n",
    "        Return:\n",
    "            a list of dermatological names\n",
    "        \n",
    "        \"\"\"\n",
    "        names = [self.label_dict[int(num)] for num in nums]\n",
    "        return names\n",
    "\n",
    "\n",
    "def multiclass_noisify(y, P, random_state=123):\n",
    "    \"\"\" Flip classes according to transition probability matrix T.\n",
    "    It expects a number between 0 and the number of classes - 1.\n",
    "\n",
    "    Args:\n",
    "        y (list): a list of index label\n",
    "        P (matrix): n x n transition matrix with values between [0, 1]\n",
    "        random_state (int): random seed. Defaults to 123.\n",
    "\n",
    "    Returns:\n",
    "        noisy y\n",
    "    \"\"\"\n",
    "    assert P.shape[0] == P.shape[1]\n",
    "    assert np.max(y) < P.shape[0]\n",
    "\n",
    "    # row stochastic matrix\n",
    "    assert_array_almost_equal(P.sum(axis=1), np.ones(P.shape[1]))\n",
    "    assert (P >= 0.0).all()\n",
    "\n",
    "    m = y.shape[0]\n",
    "    new_y = y.copy()\n",
    "    flipper = np.random.RandomState(random_state)\n",
    "\n",
    "    for idx in np.arange(m):\n",
    "        i = y[idx]\n",
    "        flipped = flipper.multinomial(1, P[i, :], 1)[0]\n",
    "        new_y[idx] = np.where(flipped == 1)[0]\n",
    "\n",
    "    return new_y\n",
    "\n",
    "\n",
    "def noisify_symmetric(y, noise_rate, random_state=123, nb_classes=7):\n",
    "    \"\"\" noisify labels in the symmetric way\n",
    "    \"\"\"\n",
    "    # create transition matrix\n",
    "    P = np.ones((nb_classes, nb_classes))\n",
    "    ## convert to other classes with equal probabilities (p = noise/(n-1))\n",
    "    P = (noise_rate / (nb_classes - 1)) * P\n",
    "\n",
    "    if noise_rate > 0.0:\n",
    "        for i in range(nb_classes):\n",
    "            P[i, i] = 1. - noise_rate\n",
    "\n",
    "        noisy_y = multiclass_noisify(y, P=P, random_state=random_state)\n",
    "        actual_noise_rate = (noisy_y != y).mean()\n",
    "\n",
    "    return noisy_y, actual_noise_rate\n",
    "\n",
    "\n",
    "def noisify_asymmetric(y, noise_rate, random_state=123):\n",
    "    r\"\"\" noisify labels in an asymmetric way: 𝑁𝑉 <-> 𝑀𝐸𝐿, 𝐵𝐶𝐶 <-> 𝐵𝐾𝐿, 𝑉𝐴𝑆𝐶 <-> 𝐷𝐹,\n",
    "        {'MEL': 0, 'NV': 1, 'BCC': 2, 'AKIEC': 3, 'BKL': 4, 'DF': 5, 'VASC': 6}\n",
    "    \"\"\"\n",
    "    P = np.eye(7)\n",
    "    n = noise_rate\n",
    "\n",
    "    if n > 0.0:\n",
    "        # 0 <-> 1\n",
    "        P[0, 0], P[0, 1] = 1. - n, n\n",
    "        P[1, 1], P[1, 0] = 1. - n, n\n",
    "\n",
    "        # 2 <-> 4\n",
    "        P[2, 2], P[2, 4] = 1. - n, n\n",
    "        P[4, 4], P[4, 2] = 1. - n, n\n",
    "\n",
    "        # 5 <-> 6\n",
    "        P[5, 5], P[5, 6] = 1. - n, n\n",
    "        P[6, 6], P[6, 5] = 1. - n, n\n",
    "\n",
    "        # 3 <-> 6\n",
    "        P[3, 3], P[3, 6] = 1. - n, n\n",
    "\n",
    "        noisy_y = multiclass_noisify(y, P=P, random_state=random_state)\n",
    "        actual_noise_rate = (noisy_y != y).mean()\n",
    "\n",
    "    return noisy_y, actual_noise_rate\n",
    "\n",
    "\n",
    "def noisify(labels, noise_type='symmetric', noise_rate=0.1, class_num=7, random_state=123):\n",
    "    assert noise_rate >= 0 and noise_rate <= 1, \"Noise rate is not in [0, 1]\"\n",
    "    if noise_rate == 0:\n",
    "        return labels, 0\n",
    "    if noise_type == 'symmetric':\n",
    "        noisy_labels, actual_noise_rate = noisify_symmetric(\n",
    "            labels, noise_rate, random_state=random_state, nb_classes=class_num)\n",
    "    elif noise_type == 'asymmetric':\n",
    "        noisy_labels, actual_noise_rate = noisify_asymmetric(\n",
    "            labels, noise_rate, random_state=random_state)\n",
    "    else:\n",
    "        raise ValueError('Not Implemented')\n",
    "    return noisy_labels, actual_noise_rate"
   ]
  },
  {
   "cell_type": "code",
   "execution_count": 6,
   "id": "85fc4d81",
   "metadata": {
    "execution": {
     "iopub.execute_input": "2022-05-16T13:55:27.453875Z",
     "iopub.status.busy": "2022-05-16T13:55:27.453555Z",
     "iopub.status.idle": "2022-05-16T13:55:27.460481Z",
     "shell.execute_reply": "2022-05-16T13:55:27.459674Z"
    },
    "papermill": {
     "duration": 0.03043,
     "end_time": "2022-05-16T13:55:27.462291",
     "exception": false,
     "start_time": "2022-05-16T13:55:27.431861",
     "status": "completed"
    },
    "tags": []
   },
   "outputs": [],
   "source": [
    "# transforms\n",
    "\n",
    "trans_train = transforms.Compose([\n",
    "    transforms.RandomHorizontalFlip(p=0.5),\n",
    "    transforms.RandomVerticalFlip(p=0.5),\n",
    "    transforms.RandomRotation(30),\n",
    "    transforms.RandomResizedCrop(224, scale=(0.4, 1), ratio=(3/4, 4/3)),\n",
    "    transforms.ToTensor(),\n",
    "    transforms.Normalize(mean=[0.485, 0.456, 0.406],\n",
    "                         std=[0.229, 0.224, 0.225])\n",
    "])\n",
    "\n",
    "trans_test = transforms.Compose([\n",
    "    transforms.Resize(224),\n",
    "    transforms.CenterCrop(224),\n",
    "    transforms.ToTensor(),\n",
    "    transforms.Normalize(mean=[0.485, 0.456, 0.406],\n",
    "                         std=[0.229, 0.224, 0.225])\n",
    "])"
   ]
  },
  {
   "cell_type": "code",
   "execution_count": 7,
   "id": "9354a0b6",
   "metadata": {
    "execution": {
     "iopub.execute_input": "2022-05-16T13:55:27.505161Z",
     "iopub.status.busy": "2022-05-16T13:55:27.504626Z",
     "iopub.status.idle": "2022-05-16T13:55:27.885036Z",
     "shell.execute_reply": "2022-05-16T13:55:27.883933Z"
    },
    "papermill": {
     "duration": 0.404778,
     "end_time": "2022-05-16T13:55:27.887927",
     "exception": false,
     "start_time": "2022-05-16T13:55:27.483149",
     "status": "completed"
    },
    "tags": []
   },
   "outputs": [
    {
     "name": "stdout",
     "output_type": "stream",
     "text": [
      "Actual noise rate: 0.0940\n",
      "Actual noise rate: 0.0978\n",
      "Actual noise rate: 0.1295\n"
     ]
    }
   ],
   "source": [
    "# dataset\n",
    "\n",
    "train_data = NoisyISIC2018(ann_file='../input/isic-groundtruth-for-classification/Train_GroundTruth.csv',\n",
    "                           img_dir='../input/isic2018/ISIC2018_Task3_Training_Input/ISIC2018_Task3_Training_Input',\n",
    "                           transform=trans_train, noise_type='asymmetric', noise_rate=NOISE_RATE, random_state=RANDOM_SEED)\n",
    "test_data = NoisyISIC2018(ann_file='../input/isic-groundtruth-for-classification/Test_GroundTruth.csv',\n",
    "                          img_dir='../input/isic2018/ISIC2018_Task3_Training_Input/ISIC2018_Task3_Training_Input',\n",
    "                          transform=trans_test, noise_type='symmetric', noise_rate=NOISE_RATE, random_state=RANDOM_SEED)\n",
    "valid_data = NoisyISIC2018(ann_file='../input/isic-groundtruth-for-classification/ISIC2018_Task3_Validation_GroundTruth.csv',\n",
    "                           img_dir='../input/isic2018task3validation/ISIC2018_Task3_Validation_Input',\n",
    "                           transform=trans_test, noise_type='symmetric', noise_rate=NOISE_RATE, random_state=RANDOM_SEED)"
   ]
  },
  {
   "cell_type": "code",
   "execution_count": 8,
   "id": "105f931a",
   "metadata": {
    "execution": {
     "iopub.execute_input": "2022-05-16T13:55:27.937790Z",
     "iopub.status.busy": "2022-05-16T13:55:27.937099Z",
     "iopub.status.idle": "2022-05-16T13:55:27.943700Z",
     "shell.execute_reply": "2022-05-16T13:55:27.942987Z"
    },
    "papermill": {
     "duration": 0.031748,
     "end_time": "2022-05-16T13:55:27.945679",
     "exception": false,
     "start_time": "2022-05-16T13:55:27.913931",
     "status": "completed"
    },
    "tags": []
   },
   "outputs": [],
   "source": [
    "# dataloader\n",
    "\n",
    "train_loader = data.DataLoader(train_data, batch_size=BATCH_SIZE, shuffle=True, drop_last=False, num_workers=NUM_WORKERS)\n",
    "test_loader = data.DataLoader(test_data, batch_size=BATCH_SIZE, shuffle=False, num_workers=NUM_WORKERS)\n",
    "valid_loader = data.DataLoader(valid_data, batch_size=BATCH_SIZE, shuffle=False, num_workers=NUM_WORKERS)"
   ]
  },
  {
   "cell_type": "code",
   "execution_count": 9,
   "id": "b24699d7",
   "metadata": {
    "execution": {
     "iopub.execute_input": "2022-05-16T13:55:27.991647Z",
     "iopub.status.busy": "2022-05-16T13:55:27.990979Z",
     "iopub.status.idle": "2022-05-16T13:55:27.996052Z",
     "shell.execute_reply": "2022-05-16T13:55:27.995386Z"
    },
    "papermill": {
     "duration": 0.029973,
     "end_time": "2022-05-16T13:55:27.998078",
     "exception": false,
     "start_time": "2022-05-16T13:55:27.968105",
     "status": "completed"
    },
    "tags": []
   },
   "outputs": [],
   "source": [
    "import torch.nn as nn\n",
    "from torchvision import models\n",
    "from collections import OrderedDict"
   ]
  },
  {
   "cell_type": "code",
   "execution_count": 10,
   "id": "36c19679",
   "metadata": {
    "execution": {
     "iopub.execute_input": "2022-05-16T13:55:28.042659Z",
     "iopub.status.busy": "2022-05-16T13:55:28.042444Z",
     "iopub.status.idle": "2022-05-16T13:55:33.736048Z",
     "shell.execute_reply": "2022-05-16T13:55:33.735305Z"
    },
    "papermill": {
     "duration": 5.718473,
     "end_time": "2022-05-16T13:55:33.738300",
     "exception": false,
     "start_time": "2022-05-16T13:55:28.019827",
     "status": "completed"
    },
    "tags": []
   },
   "outputs": [
    {
     "name": "stderr",
     "output_type": "stream",
     "text": [
      "Downloading: \"https://download.pytorch.org/models/densenet201-c1103571.pth\" to /root/.cache/torch/hub/checkpoints/densenet201-c1103571.pth\n"
     ]
    },
    {
     "data": {
      "application/vnd.jupyter.widget-view+json": {
       "model_id": "58074ce669004de6bfabb897c284f59c",
       "version_major": 2,
       "version_minor": 0
      },
      "text/plain": [
       "  0%|          | 0.00/77.4M [00:00<?, ?B/s]"
      ]
     },
     "metadata": {},
     "output_type": "display_data"
    }
   ],
   "source": [
    "from torchvision import models\n",
    "from collections import OrderedDict\n",
    "import torch.nn as nn\n",
    "import torch.nn.functional as F\n",
    "\n",
    "\n",
    "pretrained_m = torch.load('../input/dense2015/dense201-5.pkl')\n",
    "state_dict = pretrained_m.state_dict()\n",
    "\n",
    "model = models.densenet201(pretrained=True)\n",
    "classifier = nn.Sequential(OrderedDict([\n",
    "    ('fc0', nn.Linear(1920, 256)),\n",
    "    #('norm0', nn.BatchNorm1d(256)),\n",
    "    ('dropout0', nn.Dropout(p=0.5)),\n",
    "    ('relu0', nn.ReLU(inplace=True)),\n",
    "    ('fc1', nn.Linear(256, 7))\n",
    "]))\n",
    "model.classifier = classifier\n",
    "model_dict = model.state_dict()\n",
    "\n",
    "remove_keys = []\n",
    "for k,v in state_dict.items():\n",
    "    if \"classifier.norm0\" in k:\n",
    "        remove_keys.append(k)\n",
    "for k in remove_keys:\n",
    "        state_dict.__delitem__(k)\n",
    "    \n",
    "# model.features.load_state_dict(state_dict)\n",
    "model.load_state_dict(state_dict)\n",
    "model.to(device) \n",
    "del pretrained_m\n",
    "del state_dict\n"
   ]
  },
  {
   "cell_type": "code",
   "execution_count": 11,
   "id": "6dcdb6aa",
   "metadata": {
    "execution": {
     "iopub.execute_input": "2022-05-16T13:55:33.782683Z",
     "iopub.status.busy": "2022-05-16T13:55:33.781963Z",
     "iopub.status.idle": "2022-05-16T13:55:33.791208Z",
     "shell.execute_reply": "2022-05-16T13:55:33.790526Z"
    },
    "papermill": {
     "duration": 0.032918,
     "end_time": "2022-05-16T13:55:33.792853",
     "exception": false,
     "start_time": "2022-05-16T13:55:33.759935",
     "status": "completed"
    },
    "tags": []
   },
   "outputs": [],
   "source": [
    "import torch.nn as nn\n",
    "import torch.nn.functional as F\n",
    "\n",
    "class WeightedCELoss(nn.Module):\n",
    "    def __init__(self, sample_weight: torch.Tensor, num_classes=7, reduction='mean'):\n",
    "        super(WeightedCELoss, self).__init__()\n",
    "        self.num_classes = num_classes\n",
    "        self.reduction = reduction\n",
    "        self.sample_weight = sample_weight\n",
    "\n",
    "    def forward(self, pred: torch.Tensor, labels: torch.Tensor, c: int):\n",
    "        \"\"\"w * y * log(p)\n",
    "\n",
    "        Args:\n",
    "            pred (torch.Tensor): 网络输出值\n",
    "            labels (torch.Tensor): 标签\n",
    "            sample_weight (torch.Tensor): 逐样本权重\n",
    "            c:  batchIdx\n",
    "\n",
    "        Shape:\n",
    "            pred: N, C\n",
    "            label: N\n",
    "            sample_weight: N\n",
    "\n",
    "        Returns:\n",
    "            tensor.float: 逐样本赋权的损失值\n",
    "        \"\"\"\n",
    "\n",
    "        pred = F.log_softmax(pred, dim=1)                                           # N, C\n",
    "        label_one_hot = F.one_hot(labels, self.num_classes).float().to(pred.device) # C -> N, C\n",
    "        loss = label_one_hot * pred                                                 # N, C\n",
    "        # 赋权\n",
    "        loss = - 1 * torch.sum(label_one_hot * pred, dim=1) * self.sample_weight[BATCH_SIZE*c:BATCH_SIZE*(c+1)]          # N\n",
    "        \n",
    "        # 规约\n",
    "        if self.reduction == 'mean':\n",
    "            loss = loss.mean()\n",
    "        elif self.reduction == 'sum':\n",
    "            loss = loss.sum()\n",
    "        else:\n",
    "            raise ValueError('Unsupported reduction type.')\n",
    "\n",
    "        return loss"
   ]
  },
  {
   "cell_type": "code",
   "execution_count": 12,
   "id": "9df2182a",
   "metadata": {
    "execution": {
     "iopub.execute_input": "2022-05-16T13:55:33.837310Z",
     "iopub.status.busy": "2022-05-16T13:55:33.837089Z",
     "iopub.status.idle": "2022-05-16T13:55:33.847136Z",
     "shell.execute_reply": "2022-05-16T13:55:33.846512Z"
    },
    "papermill": {
     "duration": 0.03446,
     "end_time": "2022-05-16T13:55:33.848831",
     "exception": false,
     "start_time": "2022-05-16T13:55:33.814371",
     "status": "completed"
    },
    "tags": []
   },
   "outputs": [],
   "source": [
    "import numpy as np\n",
    "def enable_dropout(model):\n",
    "    \"\"\" Function to enable the dropout layers during test-time \"\"\"\n",
    "    for m in model.modules():\n",
    "        if m.__class__.__name__.startswith('Dropout'):\n",
    "            m.train()\n",
    "\n",
    "            \n",
    "def get_probs(model,data_loader):\n",
    "    model.eval()\n",
    "    label = []\n",
    "    prob = [[1 for _ in range(7)]]\n",
    "    soft = nn.Softmax(dim=-1)\n",
    "    \n",
    "    for x, clean_y,noise_y in train_loader:\n",
    "        # setting GPU\n",
    "        x = x.to(device)\n",
    "        enable_dropout(model)\n",
    "        z = model(x)\n",
    "        p = soft(z)\n",
    "        prob = np.concatenate((prob, p.detach().to('cpu')), axis=-2)\n",
    "        #print(prob.shape)\n",
    "    prob = prob[1::]\n",
    "    return prob\n",
    "\n",
    "def Uncertainty_Estimation(T=5):\n",
    "    prob = get_probs(model, train_loader)\n",
    "    probs = [prob]\n",
    "    for _ in range(T-1):\n",
    "        prob = get_probs(model,train_loader)\n",
    "        probs.append(prob)\n",
    "    prob = np.mean(probs,axis=0)\n",
    "    UoSL = - 1.0 * np.sum(prob * np.log(prob + 1e-16), axis=-1)\n",
    "    \n",
    "    np.savetxt(exp_id+\"UoSL.txt\",UoSL)\n",
    "    #print(\"prob:{:.2f}\\tUoSL: {}\".format(prob,UoSL))\n",
    "    return prob, UoSL\n",
    "\n"
   ]
  },
  {
   "cell_type": "code",
   "execution_count": 13,
   "id": "8de78455",
   "metadata": {
    "execution": {
     "iopub.execute_input": "2022-05-16T13:55:33.892586Z",
     "iopub.status.busy": "2022-05-16T13:55:33.892054Z",
     "iopub.status.idle": "2022-05-16T13:55:33.895341Z",
     "shell.execute_reply": "2022-05-16T13:55:33.894682Z"
    },
    "papermill": {
     "duration": 0.026872,
     "end_time": "2022-05-16T13:55:33.896939",
     "exception": false,
     "start_time": "2022-05-16T13:55:33.870067",
     "status": "completed"
    },
    "tags": []
   },
   "outputs": [],
   "source": [
    "#prob, UoSL = Uncertainty_Estimation(5)"
   ]
  },
  {
   "cell_type": "code",
   "execution_count": 14,
   "id": "559f5449",
   "metadata": {
    "execution": {
     "iopub.execute_input": "2022-05-16T13:55:33.940475Z",
     "iopub.status.busy": "2022-05-16T13:55:33.939922Z",
     "iopub.status.idle": "2022-05-16T13:55:34.006294Z",
     "shell.execute_reply": "2022-05-16T13:55:34.005519Z"
    },
    "papermill": {
     "duration": 0.090417,
     "end_time": "2022-05-16T13:55:34.008422",
     "exception": false,
     "start_time": "2022-05-16T13:55:33.918005",
     "status": "completed"
    },
    "tags": []
   },
   "outputs": [
    {
     "name": "stdout",
     "output_type": "stream",
     "text": [
      "<class 'numpy.ndarray'>\n",
      "<class 'numpy.float64'>\n",
      "(7511,)\n"
     ]
    }
   ],
   "source": [
    "UoSL = np.loadtxt(\"../input/11uosl/1-1UoSL.txt\")\n",
    "np.set_printoptions(threshold=np.inf)\n",
    "print(type(UoSL))\n",
    "print(type(UoSL[0]))\n",
    "print(UoSL.shape)\n",
    "np.savetxt(exp_id+\"UoSL.txt\",UoSL)\n"
   ]
  },
  {
   "cell_type": "code",
   "execution_count": 15,
   "id": "875f1768",
   "metadata": {
    "execution": {
     "iopub.execute_input": "2022-05-16T13:55:34.053720Z",
     "iopub.status.busy": "2022-05-16T13:55:34.053244Z",
     "iopub.status.idle": "2022-05-16T13:55:34.065708Z",
     "shell.execute_reply": "2022-05-16T13:55:34.065025Z"
    },
    "papermill": {
     "duration": 0.036437,
     "end_time": "2022-05-16T13:55:34.067367",
     "exception": false,
     "start_time": "2022-05-16T13:55:34.030930",
     "status": "completed"
    },
    "tags": []
   },
   "outputs": [],
   "source": [
    "import numpy as np\n",
    "import torch\n",
    "import torch.nn as nn \n",
    "def norm(UoSL):\n",
    "    minV = UoSL.min(0)\n",
    "    maxV = UoSL.max(0)\n",
    "    return (UoSL-minV)/(maxV-minV)\n",
    "\n",
    "#UoSL = np.loadtxt(\"1-1UoSL.txt\")\n",
    "nUoSL = norm(UoSL)\n",
    "tUoSL = np.mean(nUoSL)\n",
    "sample_weight = np.zeros(np.shape(UoSL))\n",
    "for i in range(len(nUoSL)):\n",
    "    if(nUoSL[i] > tUoSL):\n",
    "        sample_weight[i] = 1-nUoSL[i]\n",
    "    else:\n",
    "        sample_weight[i] = 1\n",
    "# left = np.zeros(64-23)\n",
    "# sample_weight = np.concatenate((sample_weight,left))\n",
    "sample_weight= torch.from_numpy(sample_weight)\n"
   ]
  },
  {
   "cell_type": "code",
   "execution_count": 16,
   "id": "955525f9",
   "metadata": {
    "execution": {
     "iopub.execute_input": "2022-05-16T13:55:34.111426Z",
     "iopub.status.busy": "2022-05-16T13:55:34.110892Z",
     "iopub.status.idle": "2022-05-16T13:55:34.114904Z",
     "shell.execute_reply": "2022-05-16T13:55:34.114168Z"
    },
    "papermill": {
     "duration": 0.028042,
     "end_time": "2022-05-16T13:55:34.116573",
     "exception": false,
     "start_time": "2022-05-16T13:55:34.088531",
     "status": "completed"
    },
    "tags": []
   },
   "outputs": [],
   "source": [
    "import torch.nn as nn\n",
    "sample_weight = sample_weight.to(device)\n",
    "#criterion = nn.CrossEntropyLoss()\n",
    "criterion = WeightedCELoss(sample_weight = sample_weight)"
   ]
  },
  {
   "cell_type": "code",
   "execution_count": 17,
   "id": "2d4b7e9c",
   "metadata": {
    "execution": {
     "iopub.execute_input": "2022-05-16T13:55:34.161037Z",
     "iopub.status.busy": "2022-05-16T13:55:34.160583Z",
     "iopub.status.idle": "2022-05-16T13:55:34.196599Z",
     "shell.execute_reply": "2022-05-16T13:55:34.195960Z"
    },
    "papermill": {
     "duration": 0.060449,
     "end_time": "2022-05-16T13:55:34.198198",
     "exception": false,
     "start_time": "2022-05-16T13:55:34.137749",
     "status": "completed"
    },
    "tags": []
   },
   "outputs": [],
   "source": [
    "import torch.optim as optim\n",
    "import gc\n",
    "\n",
    "class Trainer(object):\n",
    "    def __init__(self, device, log, model_name: str, optimizer=None, scheduler=None, grad_bound: float = 5., start_epoch: int = 0, best_score=0, checkpoint_model=None):\n",
    "        \"\"\" trainer for segmentation tasks\n",
    "\n",
    "        Args:\n",
    "            device (torch.device)\n",
    "            log (Logger): logfile\n",
    "            model_name (str): name of the model\n",
    "            optimizer (torch.nn.optim)\n",
    "            scheduler (torch.nn.optim)\n",
    "            grad_bound (float): max norm of the gradients\n",
    "            start_epoch (int): initial epoch\n",
    "            best_score (float): metric score for early stopping\n",
    "            checkpoint_model (None or nn.Module): None - train from scratch; nn.Module - reload from checkpoint\n",
    "        \"\"\"\n",
    "        self.device = device\n",
    "        self.log = log\n",
    "        self.model_name = model_name\n",
    "        self.grad_bound = grad_bound\n",
    "        if not os.path.exists('model'):\n",
    "            os.makedirs('model')\n",
    "        if not os.path.exists('checkpoint'):\n",
    "            os.makedirs('checkpoint')\n",
    "        # path to store checkpoint\n",
    "        self.pth_check = os.path.join(\n",
    "            'checkpoint', 'check_' + model_name + '.pth')\n",
    "\n",
    "        if checkpoint_model == None:\n",
    "            self.epoch = start_epoch\n",
    "            self.optimizer = optimizer\n",
    "            self.scheduler = scheduler\n",
    "            self.train_costs = []\n",
    "            self.train_accs = []\n",
    "            self.train_actual_accs = []\n",
    "            self.val_costs = []\n",
    "            self.val_accs = []\n",
    "            self.val_actual_accs = []\n",
    "            self.best_score = best_score\n",
    "            self.patience = 0\n",
    "        else:\n",
    "            checkpoint = torch.load(self.pth_check)\n",
    "            self.epoch = checkpoint['epoch'] + 1\n",
    "            self.optimizer = checkpoint['optimizer']\n",
    "            self.scheduler = checkpoint['scheduler']\n",
    "            self.train_costs = checkpoint['train_costs']\n",
    "            self.train_accs = checkpoint['train_accs']\n",
    "            self.train_actual_accs = checkpoint['train_actual_accs']\n",
    "            self.val_costs = checkpoint['val_costs']\n",
    "            self.val_accs = checkpoint['val_accs']\n",
    "            self.val_actual_accs = checkpoint['val_actual_accs']\n",
    "            self.best_score = checkpoint['best_score']\n",
    "            self.patience = checkpoint['patience']\n",
    "            checkpoint_model.load_state_dict(checkpoint['model_state_dict'])\n",
    "\n",
    "    def fit(self, model, train_loader, val_loader, criterion, max_epoch, test_period=5, early_threshold=10):\n",
    "        size_train = len(train_loader)\n",
    "        num_train = len(train_loader.dataset)\n",
    "        size_val = len(val_loader)\n",
    "        num_val = len(val_loader.dataset)\n",
    "        model.train()\n",
    "\n",
    "        for self.epoch in range(self.epoch, max_epoch):\n",
    "            cost = 0\n",
    "            acc = 0\n",
    "            actual_acc = 0\n",
    "\n",
    "            c = 0\n",
    "            for x, clean_y, noisy_y in train_loader:\n",
    "                x, clean_y, noisy_y = x.to(self.device), clean_y.to(\n",
    "                    self.device), noisy_y.to(self.device)\n",
    "                self.optimizer.zero_grad()\n",
    "                z = model(x)\n",
    "                loss = criterion(z, noisy_y, c)\n",
    "                loss.backward()\n",
    "                torch.nn.utils.clip_grad_norm_(model.parameters(), self.grad_bound) # 梯度裁剪\n",
    "                self.optimizer.step()\n",
    "\n",
    "                cost += loss.item()\n",
    "                _, yhat = torch.max(z.data, 1)\n",
    "                acc += (yhat == noisy_y).sum().item()\n",
    "                actual_acc += (yhat == clean_y).sum().item()\n",
    "                c = c+1\n",
    "\n",
    "            self.train_costs.append(cost/size_train)\n",
    "            self.train_accs.append(acc/num_train)\n",
    "            self.train_actual_accs.append(actual_acc/num_train)\n",
    "            self.scheduler.step()\n",
    "\n",
    "            gc.collect()\n",
    "\n",
    "            if self.epoch % test_period == 0:\n",
    "                model.eval()\n",
    "                cost, acc, noisy_acc = 0, 0, 0\n",
    "                with torch.no_grad():\n",
    "                    for x, clean_y, noisy_y in val_loader:\n",
    "                        x, clean_y, noisy_y = x.to(self.device), clean_y.to(\n",
    "                            self.device), noisy_y.to(self.device)\n",
    "                        z = model(x)\n",
    "                        _, yhat = torch.max(z.data, 1)\n",
    "                        acc += (yhat == clean_y).sum().item()\n",
    "                        noisy_acc += (yhat == noisy_y).sum().item()\n",
    "                self.val_costs.append(cost/size_val)\n",
    "                self.val_accs.append(noisy_acc/num_val)\n",
    "                self.val_actual_accs.append(acc/num_val)\n",
    "\n",
    "                if self.val_actual_accs[-1] >= self.best_score:\n",
    "                    self.best_score = self.val_actual_accs[-1]\n",
    "                    self.patience = 0\n",
    "                    save_state_dict(\n",
    "                        model, name=\"{}_dict.pth\".format(self.model_name))\n",
    "                else:\n",
    "                    self.patience += 1\n",
    "                    if self.patience >= early_threshold:\n",
    "                        break\n",
    "\n",
    "                self.log.logger.info(\"Epoch:{:3d} train_cost: {:.4f}\\ttrain_acc: {:.4f}\\tta_acc: {:.4f}\\tval_cost: {:.4f}\\tval_acc: {:.4f}\\tva_acc: {:.4f}\".format(\n",
    "                    self.epoch+1, self.train_costs[-1], self.train_accs[-1], self.train_actual_accs[-1], self.val_costs[-1], self.val_accs[-1], self.val_actual_accs[-1]))\n",
    "\n",
    "                model.train()\n",
    "\n",
    "            self.checkpoint(self.pth_check, model)\n",
    "\n",
    "        save_model(model, name=self.model_name+'.pkl')\n",
    "        history = self.get_history()\n",
    "        self.log.logger.info(\"Model has been saved at {}\\n{}\".format(\n",
    "            self.model_name+'.pkl', history))\n",
    "        return history\n",
    "\n",
    "\n",
    "    def checkpoint(self, check_file, model):\n",
    "        checkpoint = {\n",
    "            'model_state_dict': model.state_dict(),\n",
    "            'optimizer': self.optimizer,\n",
    "            'scheduler': self.scheduler,\n",
    "            'epoch': self.epoch,\n",
    "            'train_costs': self.train_costs,\n",
    "            'train_accs': self.train_accs,\n",
    "            'train_actual_accs': self.train_actual_accs,\n",
    "            'val_costs': self.val_costs,\n",
    "            'val_accs': self.val_accs,\n",
    "            'val_actual_accs': self.val_actual_accs,\n",
    "            'best_score': self.best_score,\n",
    "            'patience': self.patience\n",
    "        }\n",
    "        torch.save(checkpoint, check_file)\n",
    "\n",
    "    def get_history(self):\n",
    "        history = {\n",
    "            'train_costs': self.train_costs,\n",
    "            'train_accs': self.train_accs,\n",
    "            'train_actual_accs': self.train_actual_accs,\n",
    "            'val_costs': self.val_costs,\n",
    "            'val_accs': self.val_accs,\n",
    "            'val_actual_accs': self.val_actual_accs,\n",
    "            'best_score': self.best_score\n",
    "        }\n",
    "        return history\n",
    "\n",
    "\n",
    "def load_model(device, name='model.pkl'):\n",
    "    \"\"\"\n",
    "    load model from ./model/name 加载网络\n",
    "    \"\"\"\n",
    "    pth_model = os.path.join('model', name)\n",
    "    assert os.path.exists(pth_model), \"Model file doesn't exist!\"\n",
    "    model = torch.load(pth_model, map_location=device)\n",
    "    print('Load {} on {} successfully.'.format(name, device))\n",
    "    return model\n",
    "\n",
    "\n",
    "def save_model(model, name='model.pkl'):\n",
    "    \"\"\" \n",
    "    save model to ./model/name 保存网络\n",
    "    \"\"\"\n",
    "\n",
    "    if not os.path.exists('model'):\n",
    "      os.makedirs('model')\n",
    "\n",
    "    pth_model = os.path.join('model', name)\n",
    "    torch.save(model, pth_model)\n",
    "    print('Model has been saved to {}'.format(pth_model))\n",
    "\n",
    "\n",
    "def save_state_dict(model, name='state_dict.pth'):\n",
    "    \"\"\" \n",
    "    save state dict to ./model/temp/name 保存网络参数\n",
    "    \"\"\"\n",
    "\n",
    "    model_dir = os.path.join('model', 'temp')\n",
    "    if not os.path.exists(model_dir):\n",
    "      os.makedirs(model_dir)\n",
    "\n",
    "    pth_dict = os.path.join(model_dir, name)\n",
    "    torch.save(model.state_dict(), pth_dict)\n",
    "    print('state dict has been saved to {}'.format(pth_dict))\n",
    "\n",
    "\n",
    "def load_state_dict(model, device, name='state_dict.pth'):\n",
    "    \"\"\" \n",
    "    load model parmas from state_dict 加载网络参数\n",
    "    \"\"\"\n",
    "    pth_dict = os.path.join('model', 'temp', name)\n",
    "    assert os.path.exists(pth_dict), \"State dict file doesn't exist!\"\n",
    "    model.load_state_dict(torch.load(pth_dict, map_location=device))\n",
    "    return model"
   ]
  },
  {
   "cell_type": "code",
   "execution_count": 18,
   "id": "2a104f38",
   "metadata": {
    "execution": {
     "iopub.execute_input": "2022-05-16T13:55:34.245671Z",
     "iopub.status.busy": "2022-05-16T13:55:34.245479Z",
     "iopub.status.idle": "2022-05-16T13:55:34.250833Z",
     "shell.execute_reply": "2022-05-16T13:55:34.250073Z"
    },
    "papermill": {
     "duration": 0.029227,
     "end_time": "2022-05-16T13:55:34.252566",
     "exception": false,
     "start_time": "2022-05-16T13:55:34.223339",
     "status": "completed"
    },
    "tags": []
   },
   "outputs": [],
   "source": [
    "## hyper-params\n",
    "init_lr = 1e-3\n",
    "weight_decay = 1e-4\n",
    "max_epoch = 100\n",
    "test_period = 1\n",
    "early_threshold = 40\n",
    "\n",
    "optimizer = optim.AdamW(model.classifier.parameters(), lr=init_lr, betas=(0.9, 0.999), weight_decay=weight_decay)\n",
    "scheduler = optim.lr_scheduler.CosineAnnealingLR(optimizer, T_max=max_epoch, eta_min=0)\n",
    "\n",
    "trainer = Trainer(device, log, model_name, optimizer, scheduler, checkpoint_model=None)\n"
   ]
  },
  {
   "cell_type": "code",
   "execution_count": 19,
   "id": "0c4a9453",
   "metadata": {
    "execution": {
     "iopub.execute_input": "2022-05-16T13:55:34.296557Z",
     "iopub.status.busy": "2022-05-16T13:55:34.296336Z",
     "iopub.status.idle": "2022-05-16T16:31:39.643243Z",
     "shell.execute_reply": "2022-05-16T16:31:39.642423Z"
    },
    "papermill": {
     "duration": 9365.423781,
     "end_time": "2022-05-16T16:31:39.697890",
     "exception": false,
     "start_time": "2022-05-16T13:55:34.274109",
     "status": "completed"
    },
    "tags": []
   },
   "outputs": [
    {
     "name": "stderr",
     "output_type": "stream",
     "text": [
      "Epoch:  1 train_cost: 0.6305\ttrain_acc: 0.6885\tta_acc: 0.7506\tval_cost: 0.0000\tval_acc: 0.6684\tva_acc: 0.7513\n"
     ]
    },
    {
     "name": "stdout",
     "output_type": "stream",
     "text": [
      "state dict has been saved to model/temp/1-1-1_dict.pth\n"
     ]
    },
    {
     "name": "stderr",
     "output_type": "stream",
     "text": [
      "Epoch:  2 train_cost: 0.5288\ttrain_acc: 0.7079\tta_acc: 0.7663\tval_cost: 0.0000\tval_acc: 0.7150\tva_acc: 0.8187\n"
     ]
    },
    {
     "name": "stdout",
     "output_type": "stream",
     "text": [
      "state dict has been saved to model/temp/1-1-1_dict.pth\n"
     ]
    },
    {
     "name": "stderr",
     "output_type": "stream",
     "text": [
      "Epoch:  3 train_cost: 0.5225\ttrain_acc: 0.7055\tta_acc: 0.7702\tval_cost: 0.0000\tval_acc: 0.7047\tva_acc: 0.7927\n",
      "Epoch:  4 train_cost: 0.5009\ttrain_acc: 0.7204\tta_acc: 0.7850\tval_cost: 0.0000\tval_acc: 0.7047\tva_acc: 0.7927\n",
      "Epoch:  5 train_cost: 0.4938\ttrain_acc: 0.7108\tta_acc: 0.7754\tval_cost: 0.0000\tval_acc: 0.6995\tva_acc: 0.7927\n",
      "Epoch:  6 train_cost: 0.5034\ttrain_acc: 0.7171\tta_acc: 0.7811\tval_cost: 0.0000\tval_acc: 0.7306\tva_acc: 0.8394\n"
     ]
    },
    {
     "name": "stdout",
     "output_type": "stream",
     "text": [
      "state dict has been saved to model/temp/1-1-1_dict.pth\n"
     ]
    },
    {
     "name": "stderr",
     "output_type": "stream",
     "text": [
      "Epoch:  7 train_cost: 0.4817\ttrain_acc: 0.7275\tta_acc: 0.7898\tval_cost: 0.0000\tval_acc: 0.6891\tva_acc: 0.7979\n",
      "Epoch:  8 train_cost: 0.4722\ttrain_acc: 0.7304\tta_acc: 0.7939\tval_cost: 0.0000\tval_acc: 0.7254\tva_acc: 0.8238\n",
      "Epoch:  9 train_cost: 0.4757\ttrain_acc: 0.7355\tta_acc: 0.8003\tval_cost: 0.0000\tval_acc: 0.7306\tva_acc: 0.8238\n",
      "Epoch: 10 train_cost: 0.4628\ttrain_acc: 0.7357\tta_acc: 0.7999\tval_cost: 0.0000\tval_acc: 0.7409\tva_acc: 0.8342\n",
      "Epoch: 11 train_cost: 0.4534\ttrain_acc: 0.7426\tta_acc: 0.8064\tval_cost: 0.0000\tval_acc: 0.6891\tva_acc: 0.7876\n",
      "Epoch: 12 train_cost: 0.4588\ttrain_acc: 0.7386\tta_acc: 0.8048\tval_cost: 0.0000\tval_acc: 0.7306\tva_acc: 0.8238\n",
      "Epoch: 13 train_cost: 0.4493\ttrain_acc: 0.7418\tta_acc: 0.8076\tval_cost: 0.0000\tval_acc: 0.7150\tva_acc: 0.8187\n",
      "Epoch: 14 train_cost: 0.4525\ttrain_acc: 0.7384\tta_acc: 0.8040\tval_cost: 0.0000\tval_acc: 0.7358\tva_acc: 0.8394\n"
     ]
    },
    {
     "name": "stdout",
     "output_type": "stream",
     "text": [
      "state dict has been saved to model/temp/1-1-1_dict.pth\n"
     ]
    },
    {
     "name": "stderr",
     "output_type": "stream",
     "text": [
      "Epoch: 15 train_cost: 0.4516\ttrain_acc: 0.7446\tta_acc: 0.8083\tval_cost: 0.0000\tval_acc: 0.7254\tva_acc: 0.8342\n",
      "Epoch: 16 train_cost: 0.4642\ttrain_acc: 0.7385\tta_acc: 0.8018\tval_cost: 0.0000\tval_acc: 0.7098\tva_acc: 0.8135\n",
      "Epoch: 17 train_cost: 0.4551\ttrain_acc: 0.7417\tta_acc: 0.8083\tval_cost: 0.0000\tval_acc: 0.7202\tva_acc: 0.8083\n",
      "Epoch: 18 train_cost: 0.4489\ttrain_acc: 0.7457\tta_acc: 0.8087\tval_cost: 0.0000\tval_acc: 0.7098\tva_acc: 0.8187\n",
      "Epoch: 19 train_cost: 0.4358\ttrain_acc: 0.7502\tta_acc: 0.8132\tval_cost: 0.0000\tval_acc: 0.7098\tva_acc: 0.8135\n",
      "Epoch: 20 train_cost: 0.4371\ttrain_acc: 0.7461\tta_acc: 0.8097\tval_cost: 0.0000\tval_acc: 0.7306\tva_acc: 0.8083\n",
      "Epoch: 21 train_cost: 0.4336\ttrain_acc: 0.7536\tta_acc: 0.8192\tval_cost: 0.0000\tval_acc: 0.7150\tva_acc: 0.7927\n",
      "Epoch: 22 train_cost: 0.4220\ttrain_acc: 0.7589\tta_acc: 0.8243\tval_cost: 0.0000\tval_acc: 0.7254\tva_acc: 0.8238\n",
      "Epoch: 23 train_cost: 0.4260\ttrain_acc: 0.7569\tta_acc: 0.8196\tval_cost: 0.0000\tval_acc: 0.7358\tva_acc: 0.8446\n"
     ]
    },
    {
     "name": "stdout",
     "output_type": "stream",
     "text": [
      "state dict has been saved to model/temp/1-1-1_dict.pth\n"
     ]
    },
    {
     "name": "stderr",
     "output_type": "stream",
     "text": [
      "Epoch: 24 train_cost: 0.4213\ttrain_acc: 0.7619\tta_acc: 0.8237\tval_cost: 0.0000\tval_acc: 0.7098\tva_acc: 0.8083\n",
      "Epoch: 25 train_cost: 0.4380\ttrain_acc: 0.7558\tta_acc: 0.8191\tval_cost: 0.0000\tval_acc: 0.7047\tva_acc: 0.7927\n",
      "Epoch: 26 train_cost: 0.4230\ttrain_acc: 0.7556\tta_acc: 0.8183\tval_cost: 0.0000\tval_acc: 0.7306\tva_acc: 0.8290\n",
      "Epoch: 27 train_cost: 0.4095\ttrain_acc: 0.7625\tta_acc: 0.8212\tval_cost: 0.0000\tval_acc: 0.7358\tva_acc: 0.8290\n",
      "Epoch: 28 train_cost: 0.4104\ttrain_acc: 0.7675\tta_acc: 0.8306\tval_cost: 0.0000\tval_acc: 0.7358\tva_acc: 0.8290\n",
      "Epoch: 29 train_cost: 0.4152\ttrain_acc: 0.7609\tta_acc: 0.8233\tval_cost: 0.0000\tval_acc: 0.7202\tva_acc: 0.8187\n",
      "Epoch: 30 train_cost: 0.4139\ttrain_acc: 0.7657\tta_acc: 0.8269\tval_cost: 0.0000\tval_acc: 0.7202\tva_acc: 0.8135\n",
      "Epoch: 31 train_cost: 0.4080\ttrain_acc: 0.7685\tta_acc: 0.8267\tval_cost: 0.0000\tval_acc: 0.7358\tva_acc: 0.8290\n",
      "Epoch: 32 train_cost: 0.4128\ttrain_acc: 0.7623\tta_acc: 0.8259\tval_cost: 0.0000\tval_acc: 0.7150\tva_acc: 0.8031\n",
      "Epoch: 33 train_cost: 0.4068\ttrain_acc: 0.7618\tta_acc: 0.8256\tval_cost: 0.0000\tval_acc: 0.7150\tva_acc: 0.8187\n",
      "Epoch: 34 train_cost: 0.3925\ttrain_acc: 0.7745\tta_acc: 0.8345\tval_cost: 0.0000\tval_acc: 0.7254\tva_acc: 0.8187\n",
      "Epoch: 35 train_cost: 0.4083\ttrain_acc: 0.7686\tta_acc: 0.8325\tval_cost: 0.0000\tval_acc: 0.7409\tva_acc: 0.8394\n",
      "Epoch: 36 train_cost: 0.3999\ttrain_acc: 0.7709\tta_acc: 0.8361\tval_cost: 0.0000\tval_acc: 0.7150\tva_acc: 0.8135\n",
      "Epoch: 37 train_cost: 0.3985\ttrain_acc: 0.7761\tta_acc: 0.8406\tval_cost: 0.0000\tval_acc: 0.7409\tva_acc: 0.8342\n",
      "Epoch: 38 train_cost: 0.3972\ttrain_acc: 0.7726\tta_acc: 0.8336\tval_cost: 0.0000\tval_acc: 0.7409\tva_acc: 0.8342\n",
      "Epoch: 39 train_cost: 0.3994\ttrain_acc: 0.7725\tta_acc: 0.8348\tval_cost: 0.0000\tval_acc: 0.7150\tva_acc: 0.8187\n",
      "Epoch: 40 train_cost: 0.3907\ttrain_acc: 0.7719\tta_acc: 0.8309\tval_cost: 0.0000\tval_acc: 0.7513\tva_acc: 0.8549\n"
     ]
    },
    {
     "name": "stdout",
     "output_type": "stream",
     "text": [
      "state dict has been saved to model/temp/1-1-1_dict.pth\n"
     ]
    },
    {
     "name": "stderr",
     "output_type": "stream",
     "text": [
      "Epoch: 41 train_cost: 0.3837\ttrain_acc: 0.7761\tta_acc: 0.8352\tval_cost: 0.0000\tval_acc: 0.7202\tva_acc: 0.8187\n",
      "Epoch: 42 train_cost: 0.3914\ttrain_acc: 0.7787\tta_acc: 0.8420\tval_cost: 0.0000\tval_acc: 0.7202\tva_acc: 0.8290\n",
      "Epoch: 43 train_cost: 0.3865\ttrain_acc: 0.7747\tta_acc: 0.8360\tval_cost: 0.0000\tval_acc: 0.7202\tva_acc: 0.8187\n",
      "Epoch: 44 train_cost: 0.3884\ttrain_acc: 0.7759\tta_acc: 0.8384\tval_cost: 0.0000\tval_acc: 0.7202\tva_acc: 0.8187\n",
      "Epoch: 45 train_cost: 0.3855\ttrain_acc: 0.7815\tta_acc: 0.8436\tval_cost: 0.0000\tval_acc: 0.7254\tva_acc: 0.8290\n",
      "Epoch: 46 train_cost: 0.3778\ttrain_acc: 0.7850\tta_acc: 0.8457\tval_cost: 0.0000\tval_acc: 0.7254\tva_acc: 0.8238\n",
      "Epoch: 47 train_cost: 0.3792\ttrain_acc: 0.7794\tta_acc: 0.8373\tval_cost: 0.0000\tval_acc: 0.7202\tva_acc: 0.8187\n",
      "Epoch: 48 train_cost: 0.3718\ttrain_acc: 0.7837\tta_acc: 0.8452\tval_cost: 0.0000\tval_acc: 0.7254\tva_acc: 0.8238\n",
      "Epoch: 49 train_cost: 0.3772\ttrain_acc: 0.7855\tta_acc: 0.8445\tval_cost: 0.0000\tval_acc: 0.6995\tva_acc: 0.7979\n",
      "Epoch: 50 train_cost: 0.3711\ttrain_acc: 0.7841\tta_acc: 0.8442\tval_cost: 0.0000\tval_acc: 0.7202\tva_acc: 0.8290\n",
      "Epoch: 51 train_cost: 0.3801\ttrain_acc: 0.7783\tta_acc: 0.8374\tval_cost: 0.0000\tval_acc: 0.7202\tva_acc: 0.8187\n",
      "Epoch: 52 train_cost: 0.3672\ttrain_acc: 0.7858\tta_acc: 0.8484\tval_cost: 0.0000\tval_acc: 0.7254\tva_acc: 0.8238\n",
      "Epoch: 53 train_cost: 0.3621\ttrain_acc: 0.7884\tta_acc: 0.8500\tval_cost: 0.0000\tval_acc: 0.7306\tva_acc: 0.8238\n",
      "Epoch: 54 train_cost: 0.3586\ttrain_acc: 0.7884\tta_acc: 0.8500\tval_cost: 0.0000\tval_acc: 0.7098\tva_acc: 0.8083\n",
      "Epoch: 55 train_cost: 0.3631\ttrain_acc: 0.7902\tta_acc: 0.8501\tval_cost: 0.0000\tval_acc: 0.7202\tva_acc: 0.8187\n",
      "Epoch: 56 train_cost: 0.3581\ttrain_acc: 0.7908\tta_acc: 0.8510\tval_cost: 0.0000\tval_acc: 0.7047\tva_acc: 0.8083\n",
      "Epoch: 57 train_cost: 0.3741\ttrain_acc: 0.7852\tta_acc: 0.8494\tval_cost: 0.0000\tval_acc: 0.6943\tva_acc: 0.7927\n",
      "Epoch: 58 train_cost: 0.3610\ttrain_acc: 0.7900\tta_acc: 0.8506\tval_cost: 0.0000\tval_acc: 0.7150\tva_acc: 0.7979\n",
      "Epoch: 59 train_cost: 0.3618\ttrain_acc: 0.7899\tta_acc: 0.8497\tval_cost: 0.0000\tval_acc: 0.7254\tva_acc: 0.8031\n",
      "Epoch: 60 train_cost: 0.3596\ttrain_acc: 0.7864\tta_acc: 0.8482\tval_cost: 0.0000\tval_acc: 0.7358\tva_acc: 0.8342\n",
      "Epoch: 61 train_cost: 0.3595\ttrain_acc: 0.7942\tta_acc: 0.8529\tval_cost: 0.0000\tval_acc: 0.7150\tva_acc: 0.8135\n",
      "Epoch: 62 train_cost: 0.3498\ttrain_acc: 0.8007\tta_acc: 0.8565\tval_cost: 0.0000\tval_acc: 0.7358\tva_acc: 0.8187\n",
      "Epoch: 63 train_cost: 0.3563\ttrain_acc: 0.7947\tta_acc: 0.8571\tval_cost: 0.0000\tval_acc: 0.7306\tva_acc: 0.8135\n",
      "Epoch: 64 train_cost: 0.3563\ttrain_acc: 0.7952\tta_acc: 0.8562\tval_cost: 0.0000\tval_acc: 0.7254\tva_acc: 0.8238\n",
      "Epoch: 65 train_cost: 0.3568\ttrain_acc: 0.7904\tta_acc: 0.8506\tval_cost: 0.0000\tval_acc: 0.7150\tva_acc: 0.8031\n",
      "Epoch: 66 train_cost: 0.3448\ttrain_acc: 0.7951\tta_acc: 0.8555\tval_cost: 0.0000\tval_acc: 0.7202\tva_acc: 0.8135\n",
      "Epoch: 67 train_cost: 0.3488\ttrain_acc: 0.7976\tta_acc: 0.8577\tval_cost: 0.0000\tval_acc: 0.7254\tva_acc: 0.8135\n",
      "Epoch: 68 train_cost: 0.3437\ttrain_acc: 0.7980\tta_acc: 0.8583\tval_cost: 0.0000\tval_acc: 0.7098\tva_acc: 0.8083\n",
      "Epoch: 69 train_cost: 0.3440\ttrain_acc: 0.8042\tta_acc: 0.8613\tval_cost: 0.0000\tval_acc: 0.7047\tva_acc: 0.8083\n",
      "Epoch: 70 train_cost: 0.3488\ttrain_acc: 0.7987\tta_acc: 0.8599\tval_cost: 0.0000\tval_acc: 0.7150\tva_acc: 0.8135\n",
      "Epoch: 71 train_cost: 0.3383\ttrain_acc: 0.8004\tta_acc: 0.8603\tval_cost: 0.0000\tval_acc: 0.7047\tva_acc: 0.8135\n",
      "Epoch: 72 train_cost: 0.3416\ttrain_acc: 0.8020\tta_acc: 0.8610\tval_cost: 0.0000\tval_acc: 0.7047\tva_acc: 0.8031\n",
      "Epoch: 73 train_cost: 0.3440\ttrain_acc: 0.8047\tta_acc: 0.8617\tval_cost: 0.0000\tval_acc: 0.7202\tva_acc: 0.8187\n",
      "Epoch: 74 train_cost: 0.3433\ttrain_acc: 0.7974\tta_acc: 0.8597\tval_cost: 0.0000\tval_acc: 0.7254\tva_acc: 0.8238\n",
      "Epoch: 75 train_cost: 0.3370\ttrain_acc: 0.8064\tta_acc: 0.8670\tval_cost: 0.0000\tval_acc: 0.7254\tva_acc: 0.8238\n",
      "Epoch: 76 train_cost: 0.3429\ttrain_acc: 0.7994\tta_acc: 0.8627\tval_cost: 0.0000\tval_acc: 0.7306\tva_acc: 0.8342\n",
      "Epoch: 77 train_cost: 0.3372\ttrain_acc: 0.8058\tta_acc: 0.8626\tval_cost: 0.0000\tval_acc: 0.7306\tva_acc: 0.8290\n",
      "Epoch: 78 train_cost: 0.3438\ttrain_acc: 0.8019\tta_acc: 0.8559\tval_cost: 0.0000\tval_acc: 0.7202\tva_acc: 0.8187\n",
      "Epoch: 79 train_cost: 0.3349\ttrain_acc: 0.8035\tta_acc: 0.8635\tval_cost: 0.0000\tval_acc: 0.7202\tva_acc: 0.8187\n",
      "Model has been saved at 1-1-1.pkl\n",
      "{'train_costs': [0.6305197601389356, 0.5287943257395452, 0.5225241895555546, 0.5009295800672326, 0.49382989575519, 0.5034168998835473, 0.48171645190552015, 0.4722313528667576, 0.4756925912633568, 0.46276831618444064, 0.45340760049450707, 0.4587860283593528, 0.44932846144557553, 0.45250635459603106, 0.4516386826328793, 0.46417878331393164, 0.4551284875438327, 0.4488980087013053, 0.43578816043324253, 0.4370958841574483, 0.4335675744905613, 0.42196768997068196, 0.42596394611295396, 0.4212817406137209, 0.43800437473479764, 0.4230006230924572, 0.4095227825347266, 0.41039641290691375, 0.4152172059505809, 0.41387963231234604, 0.40802696080860645, 0.41278597096638364, 0.40678450281653517, 0.3924503428652549, 0.4082716923897366, 0.3998961283722523, 0.39848291612467795, 0.3971734579381518, 0.39935945186702254, 0.3906591756870935, 0.3836661643552987, 0.39138560765578284, 0.38651622504585526, 0.3883807800357799, 0.38551641149939914, 0.3777814561619664, 0.37923645024676517, 0.37176271049565757, 0.3771886854368473, 0.37110029621005086, 0.3801174313490098, 0.3671527077955537, 0.36209728857127726, 0.35857295192110084, 0.36308563664197047, 0.3580550885305247, 0.37408157160937966, 0.36099421401538423, 0.36177405600970325, 0.3595522393045828, 0.35953221007792785, 0.3498230874321797, 0.35628926183518655, 0.35630544691804134, 0.3568422817519949, 0.34480610036284765, 0.34883377410977867, 0.343691727153304, 0.34398532164301343, 0.3487693657610704, 0.3382650188684911, 0.3416176412418269, 0.34396224651888035, 0.3433439095495763, 0.3369728057896965, 0.3428797422081246, 0.3371905913745587, 0.3438039986740429, 0.3349463449935253, 0.3287796711393089], 'train_accs': [0.6884569298362402, 0.707895087205432, 0.7054986020503262, 0.7204100652376515, 0.7108241246172281, 0.7170816136333378, 0.7274663826387965, 0.7303954200505924, 0.7354546664891493, 0.7357209426174943, 0.7426441219544668, 0.7386499800292904, 0.7418452935694315, 0.7383837039009453, 0.744641192917055, 0.7385168419651178, 0.7417121555052589, 0.7457062974304354, 0.750232991612302, 0.746105711622953, 0.7535614432166157, 0.7588869657835176, 0.7568898948209293, 0.7619491412594861, 0.7558247903075489, 0.7555585141792038, 0.7624816935161762, 0.767540939954733, 0.7608840367461057, 0.7656770070563174, 0.7684729064039408, 0.7623485554520038, 0.7618160031953135, 0.7744641192917054, 0.7686060444681134, 0.7708693915590468, 0.7760617760617761, 0.7726001863932899, 0.7724670483291173, 0.7719344960724271, 0.7760617760617761, 0.778724537345227, 0.7747303954200506, 0.7759286379976035, 0.7815204366928505, 0.7849820263613367, 0.7793902276660898, 0.7836506457196112, 0.7855145786180269, 0.7840500599121288, 0.7783251231527094, 0.7857808547463719, 0.7884436160298229, 0.7884436160298229, 0.790174410864066, 0.7908401011849288, 0.7852483024896818, 0.7900412727998934, 0.789908134735721, 0.7864465450672348, 0.7941685527892425, 0.8006923179336972, 0.7947011050459326, 0.7952336573026229, 0.7904406869924111, 0.7951005192384503, 0.7976301424577287, 0.7980295566502463, 0.8041539076021834, 0.798695246971109, 0.8004260418053522, 0.8020236985754227, 0.8046864598588737, 0.7973638663293836, 0.8064172546931168, 0.7993609372919718, 0.805751564372254, 0.8018905605112502, 0.8034882172813207, 0.8038876314738383], 'train_actual_accs': [0.7506324058048196, 0.7663426973771801, 0.770203701238184, 0.7849820263613367, 0.7753960857409133, 0.7811210225003329, 0.7897749966715484, 0.7939022766608973, 0.8002929037411796, 0.799893489548662, 0.8064172546931168, 0.8048195979230462, 0.8076154972706697, 0.8040207695380109, 0.8082811875915324, 0.8017574224470776, 0.8082811875915324, 0.8086806017840501, 0.8132072959659167, 0.8097457062974305, 0.8191985088536813, 0.8242577552922381, 0.8195979230461989, 0.8237252030355479, 0.8190653707895087, 0.8182665424044734, 0.8211955798162694, 0.8306483823725203, 0.8233257888430302, 0.826920516575689, 0.8266542404473439, 0.8258554120623086, 0.8255891359339635, 0.8345093862335242, 0.8325123152709359, 0.8361070430035947, 0.8406337371854613, 0.8335774197843163, 0.8347756623618693, 0.8309146585008654, 0.8351750765543869, 0.8419651178271867, 0.8359739049394221, 0.8383703900945281, 0.8435627745972574, 0.8456929836240181, 0.8373052855811477, 0.8451604313673279, 0.8444947410464652, 0.8442284649181201, 0.8374384236453202, 0.848355744907469, 0.8499534016775396, 0.8499534016775396, 0.8500865397417121, 0.85101850619092, 0.8494208494208494, 0.8506190919984024, 0.8496871255491946, 0.8482226068432965, 0.8528824390893356, 0.8564771668219944, 0.8571428571428571, 0.8562108906936493, 0.8506190919984024, 0.8555452003727866, 0.8576754093995473, 0.8583410997204101, 0.8612701371322061, 0.8599387564904807, 0.8603381706829982, 0.861003861003861, 0.8616695513247238, 0.8596724803621355, 0.8669950738916257, 0.8627346558381042, 0.8626015177739316, 0.8559446145653042, 0.8635334842231394, 0.8648648648648649], 'val_costs': [0.0, 0.0, 0.0, 0.0, 0.0, 0.0, 0.0, 0.0, 0.0, 0.0, 0.0, 0.0, 0.0, 0.0, 0.0, 0.0, 0.0, 0.0, 0.0, 0.0, 0.0, 0.0, 0.0, 0.0, 0.0, 0.0, 0.0, 0.0, 0.0, 0.0, 0.0, 0.0, 0.0, 0.0, 0.0, 0.0, 0.0, 0.0, 0.0, 0.0, 0.0, 0.0, 0.0, 0.0, 0.0, 0.0, 0.0, 0.0, 0.0, 0.0, 0.0, 0.0, 0.0, 0.0, 0.0, 0.0, 0.0, 0.0, 0.0, 0.0, 0.0, 0.0, 0.0, 0.0, 0.0, 0.0, 0.0, 0.0, 0.0, 0.0, 0.0, 0.0, 0.0, 0.0, 0.0, 0.0, 0.0, 0.0, 0.0, 0.0], 'val_accs': [0.6683937823834197, 0.7150259067357513, 0.7046632124352331, 0.7046632124352331, 0.6994818652849741, 0.7305699481865285, 0.689119170984456, 0.7253886010362695, 0.7305699481865285, 0.7409326424870466, 0.689119170984456, 0.7305699481865285, 0.7150259067357513, 0.7357512953367875, 0.7253886010362695, 0.7098445595854922, 0.7202072538860104, 0.7098445595854922, 0.7098445595854922, 0.7305699481865285, 0.7150259067357513, 0.7253886010362695, 0.7357512953367875, 0.7098445595854922, 0.7046632124352331, 0.7305699481865285, 0.7357512953367875, 0.7357512953367875, 0.7202072538860104, 0.7202072538860104, 0.7357512953367875, 0.7150259067357513, 0.7150259067357513, 0.7253886010362695, 0.7409326424870466, 0.7150259067357513, 0.7409326424870466, 0.7409326424870466, 0.7150259067357513, 0.7512953367875648, 0.7202072538860104, 0.7202072538860104, 0.7202072538860104, 0.7202072538860104, 0.7253886010362695, 0.7253886010362695, 0.7202072538860104, 0.7253886010362695, 0.6994818652849741, 0.7202072538860104, 0.7202072538860104, 0.7253886010362695, 0.7305699481865285, 0.7098445595854922, 0.7202072538860104, 0.7046632124352331, 0.694300518134715, 0.7150259067357513, 0.7253886010362695, 0.7357512953367875, 0.7150259067357513, 0.7357512953367875, 0.7305699481865285, 0.7253886010362695, 0.7150259067357513, 0.7202072538860104, 0.7253886010362695, 0.7098445595854922, 0.7046632124352331, 0.7150259067357513, 0.7046632124352331, 0.7046632124352331, 0.7202072538860104, 0.7253886010362695, 0.7253886010362695, 0.7305699481865285, 0.7305699481865285, 0.7202072538860104, 0.7202072538860104, 0.7098445595854922], 'val_actual_accs': [0.7512953367875648, 0.8186528497409327, 0.7927461139896373, 0.7927461139896373, 0.7927461139896373, 0.8393782383419689, 0.7979274611398963, 0.8238341968911918, 0.8238341968911918, 0.8341968911917098, 0.7875647668393783, 0.8238341968911918, 0.8186528497409327, 0.8393782383419689, 0.8341968911917098, 0.8134715025906736, 0.8082901554404145, 0.8186528497409327, 0.8134715025906736, 0.8082901554404145, 0.7927461139896373, 0.8238341968911918, 0.844559585492228, 0.8082901554404145, 0.7927461139896373, 0.8290155440414507, 0.8290155440414507, 0.8290155440414507, 0.8186528497409327, 0.8134715025906736, 0.8290155440414507, 0.8031088082901554, 0.8186528497409327, 0.8186528497409327, 0.8393782383419689, 0.8134715025906736, 0.8341968911917098, 0.8341968911917098, 0.8186528497409327, 0.8549222797927462, 0.8186528497409327, 0.8290155440414507, 0.8186528497409327, 0.8186528497409327, 0.8290155440414507, 0.8238341968911918, 0.8186528497409327, 0.8238341968911918, 0.7979274611398963, 0.8290155440414507, 0.8186528497409327, 0.8238341968911918, 0.8238341968911918, 0.8082901554404145, 0.8186528497409327, 0.8082901554404145, 0.7927461139896373, 0.7979274611398963, 0.8031088082901554, 0.8341968911917098, 0.8134715025906736, 0.8186528497409327, 0.8134715025906736, 0.8238341968911918, 0.8031088082901554, 0.8134715025906736, 0.8134715025906736, 0.8082901554404145, 0.8082901554404145, 0.8134715025906736, 0.8134715025906736, 0.8031088082901554, 0.8186528497409327, 0.8238341968911918, 0.8238341968911918, 0.8341968911917098, 0.8290155440414507, 0.8186528497409327, 0.8186528497409327, 0.8082901554404145], 'best_score': 0.8549222797927462}\n"
     ]
    },
    {
     "name": "stdout",
     "output_type": "stream",
     "text": [
      "Model has been saved to model/1-1-1.pkl\n"
     ]
    }
   ],
   "source": [
    "history = trainer.fit(model, train_loader, valid_loader, criterion, max_epoch, test_period, early_threshold)"
   ]
  },
  {
   "cell_type": "code",
   "execution_count": 20,
   "id": "56eb4f4d",
   "metadata": {
    "execution": {
     "iopub.execute_input": "2022-05-16T16:31:39.802922Z",
     "iopub.status.busy": "2022-05-16T16:31:39.802148Z",
     "iopub.status.idle": "2022-05-16T16:31:40.716513Z",
     "shell.execute_reply": "2022-05-16T16:31:40.715755Z"
    },
    "jupyter": {
     "source_hidden": true
    },
    "papermill": {
     "duration": 0.970008,
     "end_time": "2022-05-16T16:31:40.719337",
     "exception": false,
     "start_time": "2022-05-16T16:31:39.749329",
     "status": "completed"
    },
    "tags": []
   },
   "outputs": [],
   "source": [
    "from sklearn import metrics\n",
    "from sklearn.preprocessing import label_binarize\n",
    "\n",
    "\n",
    "def evaluation(model, data_loader, categories=['MEL', 'NV', 'BCC', 'AKIEC', 'BKL', 'DF', 'VASC']):\n",
    "    y, prob, label, pred = predict(model, data_loader)\n",
    "    report = metrics.classification_report(label, pred, target_names=categories, digits=3)\n",
    "    roc_auc = auc_scores(y, prob)\n",
    "    print(\"Evaluation Report:\\n{}\".format(report))\n",
    "    print(\"AUC:\\n{}\".format(roc_auc))\n",
    "\n",
    "\n",
    "@torch.no_grad()\n",
    "def predict(model, data_loader):\n",
    "    \"\"\" get predicted probabilities\n",
    "\n",
    "    Returns:\n",
    "        y: one-hot labels\n",
    "        prob: predicted probabilities\n",
    "    \"\"\"\n",
    "    model.eval()\n",
    "    device = next(model.parameters()).device\n",
    "    label = []\n",
    "    prob = [[1 for _ in range(7)]]\n",
    "    soft = nn.Softmax(dim=-1)\n",
    "\n",
    "    for x, y, _ in data_loader:\n",
    "        x, y = x.to(device), y.to(device)\n",
    "        z = model(x)\n",
    "        p = soft(z)\n",
    "        prob = np.concatenate((prob, p.to('cpu')), axis=-2)\n",
    "        label = np.concatenate((label, y.to('cpu')), axis=-1)\n",
    "    \n",
    "    prob = prob[1::]\n",
    "    class_num = prob.shape[1]\n",
    "    y = label_binarize(label, classes=[i for i in range(class_num)])\n",
    "    pred = np.argmax(prob, axis=1)\n",
    "\n",
    "    return y, prob, label, pred\n",
    "\n",
    "\n",
    "\n",
    "def auc_scores(y, prob):\n",
    "    class_num = prob.shape[1]\n",
    "\n",
    "    fpr = dict()\n",
    "    tpr = dict()\n",
    "    roc_auc = dict()\n",
    "\n",
    "    # Compute ROC curve and ROC area for each class\n",
    "    for i in range(class_num):\n",
    "        fpr[i], tpr[i], _ = metrics.roc_curve(y[:, i], prob[:, i])\n",
    "        roc_auc[i] = metrics.auc(fpr[i], tpr[i])\n",
    "\n",
    "    # Compute micro-average ROC curve and ROC area (computed globally)\n",
    "    fpr[\"micro\"], tpr[\"micro\"], _ = metrics.roc_curve(y.ravel(), prob.ravel())\n",
    "    roc_auc[\"micro\"] = metrics.auc(fpr[\"micro\"], tpr[\"micro\"])\n",
    "\n",
    "    # Compute macro-average ROC curve and ROC area (simply average on each label)\n",
    "    # aggregate all false positive rates\n",
    "    all_fpr = np.unique(np.concatenate([fpr[i] for i in range(class_num)]))\n",
    "    # interpolate all ROC curves at this points\n",
    "    mean_tpr = np.zeros_like(all_fpr)\n",
    "    for i in range(class_num):\n",
    "        mean_tpr += np.interp(all_fpr, fpr[i], tpr[i])\n",
    "    # average it and compute AUC\n",
    "    mean_tpr /= class_num\n",
    "\n",
    "    fpr[\"macro\"] = all_fpr\n",
    "    tpr[\"macro\"] = mean_tpr\n",
    "    roc_auc[\"macro\"] = metrics.auc(fpr[\"macro\"], tpr[\"macro\"])\n",
    "\n",
    "    return roc_auc"
   ]
  },
  {
   "cell_type": "code",
   "execution_count": 21,
   "id": "68b36bbc",
   "metadata": {
    "execution": {
     "iopub.execute_input": "2022-05-16T16:31:40.868780Z",
     "iopub.status.busy": "2022-05-16T16:31:40.868227Z",
     "iopub.status.idle": "2022-05-16T16:32:22.690655Z",
     "shell.execute_reply": "2022-05-16T16:32:22.689074Z"
    },
    "jupyter": {
     "source_hidden": true
    },
    "papermill": {
     "duration": 41.937097,
     "end_time": "2022-05-16T16:32:22.740926",
     "exception": false,
     "start_time": "2022-05-16T16:31:40.803829",
     "status": "completed"
    },
    "tags": []
   },
   "outputs": [
    {
     "name": "stdout",
     "output_type": "stream",
     "text": [
      "Evaluation Report:\n",
      "              precision    recall  f1-score   support\n",
      "\n",
      "         MEL      0.749     0.558     0.640       283\n",
      "          NV      0.895     0.963     0.928      1671\n",
      "         BCC      0.802     0.761     0.781       117\n",
      "       AKIEC      0.889     0.771     0.826        83\n",
      "         BKL      0.792     0.713     0.750       289\n",
      "          DF      1.000     0.630     0.773        27\n",
      "        VASC      0.912     0.912     0.912        34\n",
      "\n",
      "    accuracy                          0.869      2504\n",
      "   macro avg      0.863     0.758     0.801      2504\n",
      "weighted avg      0.863     0.869     0.863      2504\n",
      "\n",
      "AUC:\n",
      "{0: 0.9352391164964052, 1: 0.9613015762858106, 2: 0.9839801775285646, 3: 0.9937295651005509, 4: 0.9687925203277434, 5: 0.9943480016148567, 6: 0.9993331745653726, 'micro': 0.9870453281139953, 'macro': 0.9768358651523769}\n"
     ]
    }
   ],
   "source": [
    "evaluation(model, test_loader)"
   ]
  }
 ],
 "metadata": {
  "kernelspec": {
   "display_name": "Python 3",
   "language": "python",
   "name": "python3"
  },
  "language_info": {
   "codemirror_mode": {
    "name": "ipython",
    "version": 3
   },
   "file_extension": ".py",
   "mimetype": "text/x-python",
   "name": "python",
   "nbconvert_exporter": "python",
   "pygments_lexer": "ipython3",
   "version": "3.7.12"
  },
  "papermill": {
   "default_parameters": {},
   "duration": 9428.066739,
   "end_time": "2022-05-16T16:32:25.327590",
   "environment_variables": {},
   "exception": null,
   "input_path": "__notebook__.ipynb",
   "output_path": "__notebook__.ipynb",
   "parameters": {},
   "start_time": "2022-05-16T13:55:17.260851",
   "version": "2.3.4"
  },
  "widgets": {
   "application/vnd.jupyter.widget-state+json": {
    "state": {
     "05c8ce19e9c648e8ae8105627dcd916d": {
      "model_module": "@jupyter-widgets/controls",
      "model_module_version": "1.5.0",
      "model_name": "DescriptionStyleModel",
      "state": {
       "_model_module": "@jupyter-widgets/controls",
       "_model_module_version": "1.5.0",
       "_model_name": "DescriptionStyleModel",
       "_view_count": null,
       "_view_module": "@jupyter-widgets/base",
       "_view_module_version": "1.2.0",
       "_view_name": "StyleView",
       "description_width": ""
      }
     },
     "3a1775143738443c86980015b06924d5": {
      "model_module": "@jupyter-widgets/controls",
      "model_module_version": "1.5.0",
      "model_name": "ProgressStyleModel",
      "state": {
       "_model_module": "@jupyter-widgets/controls",
       "_model_module_version": "1.5.0",
       "_model_name": "ProgressStyleModel",
       "_view_count": null,
       "_view_module": "@jupyter-widgets/base",
       "_view_module_version": "1.2.0",
       "_view_name": "StyleView",
       "bar_color": null,
       "description_width": ""
      }
     },
     "3b39bbf4af644ba69045729f9f0b1224": {
      "model_module": "@jupyter-widgets/base",
      "model_module_version": "1.2.0",
      "model_name": "LayoutModel",
      "state": {
       "_model_module": "@jupyter-widgets/base",
       "_model_module_version": "1.2.0",
       "_model_name": "LayoutModel",
       "_view_count": null,
       "_view_module": "@jupyter-widgets/base",
       "_view_module_version": "1.2.0",
       "_view_name": "LayoutView",
       "align_content": null,
       "align_items": null,
       "align_self": null,
       "border": null,
       "bottom": null,
       "display": null,
       "flex": null,
       "flex_flow": null,
       "grid_area": null,
       "grid_auto_columns": null,
       "grid_auto_flow": null,
       "grid_auto_rows": null,
       "grid_column": null,
       "grid_gap": null,
       "grid_row": null,
       "grid_template_areas": null,
       "grid_template_columns": null,
       "grid_template_rows": null,
       "height": null,
       "justify_content": null,
       "justify_items": null,
       "left": null,
       "margin": null,
       "max_height": null,
       "max_width": null,
       "min_height": null,
       "min_width": null,
       "object_fit": null,
       "object_position": null,
       "order": null,
       "overflow": null,
       "overflow_x": null,
       "overflow_y": null,
       "padding": null,
       "right": null,
       "top": null,
       "visibility": null,
       "width": null
      }
     },
     "58074ce669004de6bfabb897c284f59c": {
      "model_module": "@jupyter-widgets/controls",
      "model_module_version": "1.5.0",
      "model_name": "HBoxModel",
      "state": {
       "_dom_classes": [],
       "_model_module": "@jupyter-widgets/controls",
       "_model_module_version": "1.5.0",
       "_model_name": "HBoxModel",
       "_view_count": null,
       "_view_module": "@jupyter-widgets/controls",
       "_view_module_version": "1.5.0",
       "_view_name": "HBoxView",
       "box_style": "",
       "children": [
        "IPY_MODEL_80d603fba2e84656ad358b7111b431a1",
        "IPY_MODEL_9f0dd75b0fdf4a00a1729018507cfd0d",
        "IPY_MODEL_6b80c18142294c57b5c5beecc44f35f2"
       ],
       "layout": "IPY_MODEL_dc46ca5f64cb4cb987c0baa7812e52b0"
      }
     },
     "6b80c18142294c57b5c5beecc44f35f2": {
      "model_module": "@jupyter-widgets/controls",
      "model_module_version": "1.5.0",
      "model_name": "HTMLModel",
      "state": {
       "_dom_classes": [],
       "_model_module": "@jupyter-widgets/controls",
       "_model_module_version": "1.5.0",
       "_model_name": "HTMLModel",
       "_view_count": null,
       "_view_module": "@jupyter-widgets/controls",
       "_view_module_version": "1.5.0",
       "_view_name": "HTMLView",
       "description": "",
       "description_tooltip": null,
       "layout": "IPY_MODEL_c1e30273e7324317ab15ba6f2ab3d1d8",
       "placeholder": "​",
       "style": "IPY_MODEL_e8077c5dcdaa499f8f25b6e8baeabbf6",
       "value": " 77.4M/77.4M [00:00&lt;00:00, 221MB/s]"
      }
     },
     "7dede2c6af9444d89ee5dde723c3fe0a": {
      "model_module": "@jupyter-widgets/base",
      "model_module_version": "1.2.0",
      "model_name": "LayoutModel",
      "state": {
       "_model_module": "@jupyter-widgets/base",
       "_model_module_version": "1.2.0",
       "_model_name": "LayoutModel",
       "_view_count": null,
       "_view_module": "@jupyter-widgets/base",
       "_view_module_version": "1.2.0",
       "_view_name": "LayoutView",
       "align_content": null,
       "align_items": null,
       "align_self": null,
       "border": null,
       "bottom": null,
       "display": null,
       "flex": null,
       "flex_flow": null,
       "grid_area": null,
       "grid_auto_columns": null,
       "grid_auto_flow": null,
       "grid_auto_rows": null,
       "grid_column": null,
       "grid_gap": null,
       "grid_row": null,
       "grid_template_areas": null,
       "grid_template_columns": null,
       "grid_template_rows": null,
       "height": null,
       "justify_content": null,
       "justify_items": null,
       "left": null,
       "margin": null,
       "max_height": null,
       "max_width": null,
       "min_height": null,
       "min_width": null,
       "object_fit": null,
       "object_position": null,
       "order": null,
       "overflow": null,
       "overflow_x": null,
       "overflow_y": null,
       "padding": null,
       "right": null,
       "top": null,
       "visibility": null,
       "width": null
      }
     },
     "80d603fba2e84656ad358b7111b431a1": {
      "model_module": "@jupyter-widgets/controls",
      "model_module_version": "1.5.0",
      "model_name": "HTMLModel",
      "state": {
       "_dom_classes": [],
       "_model_module": "@jupyter-widgets/controls",
       "_model_module_version": "1.5.0",
       "_model_name": "HTMLModel",
       "_view_count": null,
       "_view_module": "@jupyter-widgets/controls",
       "_view_module_version": "1.5.0",
       "_view_name": "HTMLView",
       "description": "",
       "description_tooltip": null,
       "layout": "IPY_MODEL_7dede2c6af9444d89ee5dde723c3fe0a",
       "placeholder": "​",
       "style": "IPY_MODEL_05c8ce19e9c648e8ae8105627dcd916d",
       "value": "100%"
      }
     },
     "9f0dd75b0fdf4a00a1729018507cfd0d": {
      "model_module": "@jupyter-widgets/controls",
      "model_module_version": "1.5.0",
      "model_name": "FloatProgressModel",
      "state": {
       "_dom_classes": [],
       "_model_module": "@jupyter-widgets/controls",
       "_model_module_version": "1.5.0",
       "_model_name": "FloatProgressModel",
       "_view_count": null,
       "_view_module": "@jupyter-widgets/controls",
       "_view_module_version": "1.5.0",
       "_view_name": "ProgressView",
       "bar_style": "success",
       "description": "",
       "description_tooltip": null,
       "layout": "IPY_MODEL_3b39bbf4af644ba69045729f9f0b1224",
       "max": 81131730.0,
       "min": 0.0,
       "orientation": "horizontal",
       "style": "IPY_MODEL_3a1775143738443c86980015b06924d5",
       "value": 81131730.0
      }
     },
     "c1e30273e7324317ab15ba6f2ab3d1d8": {
      "model_module": "@jupyter-widgets/base",
      "model_module_version": "1.2.0",
      "model_name": "LayoutModel",
      "state": {
       "_model_module": "@jupyter-widgets/base",
       "_model_module_version": "1.2.0",
       "_model_name": "LayoutModel",
       "_view_count": null,
       "_view_module": "@jupyter-widgets/base",
       "_view_module_version": "1.2.0",
       "_view_name": "LayoutView",
       "align_content": null,
       "align_items": null,
       "align_self": null,
       "border": null,
       "bottom": null,
       "display": null,
       "flex": null,
       "flex_flow": null,
       "grid_area": null,
       "grid_auto_columns": null,
       "grid_auto_flow": null,
       "grid_auto_rows": null,
       "grid_column": null,
       "grid_gap": null,
       "grid_row": null,
       "grid_template_areas": null,
       "grid_template_columns": null,
       "grid_template_rows": null,
       "height": null,
       "justify_content": null,
       "justify_items": null,
       "left": null,
       "margin": null,
       "max_height": null,
       "max_width": null,
       "min_height": null,
       "min_width": null,
       "object_fit": null,
       "object_position": null,
       "order": null,
       "overflow": null,
       "overflow_x": null,
       "overflow_y": null,
       "padding": null,
       "right": null,
       "top": null,
       "visibility": null,
       "width": null
      }
     },
     "dc46ca5f64cb4cb987c0baa7812e52b0": {
      "model_module": "@jupyter-widgets/base",
      "model_module_version": "1.2.0",
      "model_name": "LayoutModel",
      "state": {
       "_model_module": "@jupyter-widgets/base",
       "_model_module_version": "1.2.0",
       "_model_name": "LayoutModel",
       "_view_count": null,
       "_view_module": "@jupyter-widgets/base",
       "_view_module_version": "1.2.0",
       "_view_name": "LayoutView",
       "align_content": null,
       "align_items": null,
       "align_self": null,
       "border": null,
       "bottom": null,
       "display": null,
       "flex": null,
       "flex_flow": null,
       "grid_area": null,
       "grid_auto_columns": null,
       "grid_auto_flow": null,
       "grid_auto_rows": null,
       "grid_column": null,
       "grid_gap": null,
       "grid_row": null,
       "grid_template_areas": null,
       "grid_template_columns": null,
       "grid_template_rows": null,
       "height": null,
       "justify_content": null,
       "justify_items": null,
       "left": null,
       "margin": null,
       "max_height": null,
       "max_width": null,
       "min_height": null,
       "min_width": null,
       "object_fit": null,
       "object_position": null,
       "order": null,
       "overflow": null,
       "overflow_x": null,
       "overflow_y": null,
       "padding": null,
       "right": null,
       "top": null,
       "visibility": null,
       "width": null
      }
     },
     "e8077c5dcdaa499f8f25b6e8baeabbf6": {
      "model_module": "@jupyter-widgets/controls",
      "model_module_version": "1.5.0",
      "model_name": "DescriptionStyleModel",
      "state": {
       "_model_module": "@jupyter-widgets/controls",
       "_model_module_version": "1.5.0",
       "_model_name": "DescriptionStyleModel",
       "_view_count": null,
       "_view_module": "@jupyter-widgets/base",
       "_view_module_version": "1.2.0",
       "_view_name": "StyleView",
       "description_width": ""
      }
     }
    },
    "version_major": 2,
    "version_minor": 0
   }
  }
 },
 "nbformat": 4,
 "nbformat_minor": 5
}
