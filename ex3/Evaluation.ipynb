{
 "cells": [
  {
   "cell_type": "markdown",
   "metadata": {},
   "source": [
    "# Model Evaluation"
   ]
  },
  {
   "cell_type": "code",
   "execution_count": null,
   "metadata": {},
   "outputs": [],
   "source": [
    "import torch\n",
    "import os\n",
    "import utils\n",
    "\n",
    "import warnings\n",
    "warnings.filterwarnings('ignore')"
   ]
  },
  {
   "cell_type": "markdown",
   "metadata": {},
   "source": [
    "## Prepare Test Set"
   ]
  },
  {
   "cell_type": "code",
   "execution_count": null,
   "metadata": {},
   "outputs": [],
   "source": [
    "# path of img data\n",
    "pth_train = 'Data/ISIC2017/Aug_Training_Data'\n",
    "pth_valid = 'Data/ISIC2017/ISIC-2017_Validation_Data'\n",
    "pth_test = 'Data/ISIC2017/ISIC-2017_Test_Data'\n",
    "\n",
    "\n",
    "ann_train = utils.Annotation('Data/ISIC2017/ISIC-2017_Training_Aug_Part3_GroundTruth.csv')\n",
    "ann_valid = utils.Annotation('Data/ISIC2017/ISIC-2017_Validation_Part3_GroundTruth.csv')\n",
    "ann_test = utils.Annotation('Data/ISIC2017/ISIC-2017_Test_v2_Part3_GroundTruth.csv')"
   ]
  },
  {
   "cell_type": "code",
   "execution_count": null,
   "metadata": {},
   "outputs": [],
   "source": [
    "from torchvision import transforms\n",
    "from torch.utils import data\n",
    "\n",
    "transform = transforms.Compose([transforms.Resize((224, 224)),\n",
    "                                transforms.ToTensor(),\n",
    "                                transforms.Normalize([0.485, 0.456, 0.406],\n",
    "                                                     [0.229, 0.224, 0.225])\n",
    "                                ])"
   ]
  },
  {
   "cell_type": "code",
   "execution_count": null,
   "metadata": {},
   "outputs": [],
   "source": [
    "batch_size = 32\n",
    "\n",
    "# create train dataset\n",
    "train_data = utils.RandomPatch(ann_train.df, pth_train, transform=transform)\n",
    "train_loader = data.DataLoader(train_data, batch_size=batch_size, shuffle=False)\n",
    "\n",
    "# create validation dataset\n",
    "valid_data = utils.RandomPatch(ann_valid.df, pth_valid, transform=transform)\n",
    "valid_loader = data.DataLoader(valid_data, batch_size=batch_size, shuffle=False)\n",
    "\n",
    "# create test dataset\n",
    "test_data = utils.RandomPatch(ann_test.df, pth_test, transform=transform)\n",
    "test_loader = data.DataLoader(test_data, batch_size=batch_size, shuffle=False)"
   ]
  },
  {
   "cell_type": "code",
   "execution_count": null,
   "metadata": {},
   "outputs": [],
   "source": [
    "x, y = next(iter(test_loader))\n",
    "labels = ann_test.to_names(y)\n",
    "\n",
    "utils.show_samples(x, labels, 2, 3, \"ISIC 2017 Test Data\")"
   ]
  },
  {
   "cell_type": "markdown",
   "metadata": {},
   "source": [
    "## Load Model"
   ]
  },
  {
   "cell_type": "code",
   "execution_count": null,
   "metadata": {},
   "outputs": [],
   "source": [
    "# GPU setting\n",
    "device = torch.device(\"cuda\" if torch.cuda.is_available() else \"cpu\")\n",
    "print(device)"
   ]
  },
  {
   "cell_type": "code",
   "execution_count": null,
   "metadata": {},
   "outputs": [],
   "source": [
    "model = utils.load_model(device, name='res50-4.pkl')"
   ]
  },
  {
   "cell_type": "raw",
   "metadata": {},
   "source": [
    "# load model from state_dict\n",
    "# import nets\n",
    "# model = nets.resnet50(num_classes=3)\n",
    "model = utils.load_state_dict(model, device, name='res50_dict_3.pth')"
   ]
  },
  {
   "cell_type": "markdown",
   "metadata": {},
   "source": [
    "## Evaluation\n",
    "In the test stage, we used the same patch extraction method to randomly crop nine patches from each test image, fed them to the trained network, and averaged the obtained scores as the predicted score of the image.\n",
    "\n",
    "### Quantitative"
   ]
  },
  {
   "cell_type": "code",
   "execution_count": null,
   "metadata": {},
   "outputs": [],
   "source": [
    "import matplotlib.pyplot as plt\n",
    "from itertools import cycle\n",
    "import numpy as np\n",
    "from sklearn import metrics\n",
    "\n",
    "\n",
    "eval_metrics = utils.Evaluation(device, ann_test.categories)\n",
    "\n",
    "def evaluation_report(model, data_loader):\n",
    "    # Compute the averge pred scores from 9 patches for each sample\n",
    "    _, prob = eval_metrics.get_probs(model, data_loader)\n",
    "    probs = [prob]\n",
    "    for _ in range(8):\n",
    "        _, prob = eval_metrics.get_probs(model, data_loader)\n",
    "        probs.append(prob)\n",
    "    prob = np.mean(probs, axis=0)\n",
    "    eval_metrics.prob = prob\n",
    "    \n",
    "    # Compute evaluation scores\n",
    "    eval_metrics.complete_scores(mode=\"test\")\n",
    "    \n",
    "    print(eval_metrics.report)\n",
    "    print(\"MEL Acc: {:.4f}\".format(eval_metrics.mel_acc))\n",
    "    print(\"SK Acc: {:.4f}\".format(eval_metrics.sk_acc))\n",
    "    print(\"Specificity: {}\".format(eval_metrics.specs))\n",
    "    print(\"-\"*36)\n",
    "    fpr, tpr, roc_auc = eval_metrics.fpr, eval_metrics.tpr, eval_metrics.roc_auc\n",
    "    \n",
    "    for key in roc_auc.keys():\n",
    "        print(\"AUC({}): {}\".format(key, roc_auc[key]))\n",
    "    \n",
    "    \n",
    "    # Plot ROC curves\n",
    "    lw = 2\n",
    "    plt.figure(dpi=100)\n",
    "    plt.plot(\n",
    "        fpr[\"micro\"],\n",
    "        tpr[\"micro\"],\n",
    "        label=\"micro-average ROC curve (area = {0:0.2f})\".format(roc_auc[\"micro\"]),\n",
    "        color=\"deeppink\",\n",
    "        linestyle=\":\",\n",
    "        linewidth=4,\n",
    "    )\n",
    "\n",
    "    plt.plot(\n",
    "        fpr[\"macro\"],\n",
    "        tpr[\"macro\"],\n",
    "        label=\"macro-average ROC curve (area = {0:0.2f})\".format(roc_auc[\"macro\"]),\n",
    "        color=\"navy\",\n",
    "        linestyle=\":\",\n",
    "        linewidth=4,\n",
    "    )\n",
    "\n",
    "    colors = cycle([\"aqua\", \"darkorange\", \"cornflowerblue\"])\n",
    "    for i, color in zip(range(3), colors):\n",
    "        plt.plot(\n",
    "            fpr[i],\n",
    "            tpr[i],\n",
    "            color=color,\n",
    "            lw=lw,\n",
    "            label=\"ROC curve of class {0} (area = {1:0.2f})\".format(i, roc_auc[i]),\n",
    "        )\n",
    "\n",
    "    plt.plot([0, 1], [0, 1], \"k--\", lw=lw)\n",
    "    plt.xlim([0.0, 1.0])\n",
    "    plt.ylim([0.0, 1.05])\n",
    "    plt.xlabel(\"False Positive Rate\")\n",
    "    plt.ylabel(\"True Positive Rate\")\n",
    "    plt.title(\"ROC Curves\")\n",
    "    plt.legend(loc=\"lower right\")\n",
    "    plt.show()"
   ]
  },
  {
   "cell_type": "code",
   "execution_count": null,
   "metadata": {},
   "outputs": [],
   "source": [
    "print(\"Test Set\")\n",
    "evaluation_report(model, test_loader)"
   ]
  },
  {
   "cell_type": "raw",
   "metadata": {},
   "source": [
    "print(\"Validation Set\")\n",
    "evaluation_report(model, valid_loader)\n",
    "\n",
    "# print(\"Training Set\")\n",
    "# evaluation_report(model, train_loader)"
   ]
  },
  {
   "cell_type": "markdown",
   "metadata": {},
   "source": [
    "## Qualitative"
   ]
  },
  {
   "cell_type": "code",
   "execution_count": null,
   "metadata": {},
   "outputs": [],
   "source": [
    "from PIL import Image\n",
    "\n",
    "class FixedPatch(data.Dataset):\n",
    "    def __init__(self, annotations, img_dir: str, transform=None, target_transform=None):\n",
    "        self.img_labels = annotations\n",
    "        self.img_dir = img_dir\n",
    "        self.transform = transform\n",
    "        self.target_transform = target_transform\n",
    "        self.scales = [4/5]\n",
    "\n",
    "    def __len__(self):\n",
    "        return len(self.img_labels)\n",
    "\n",
    "    def __getitem__(self, idx: int):\n",
    "        idx_sample = idx\n",
    "        img_path = os.path.join(self.img_dir, self.img_labels.image_id[idx_sample] + '.jpg')\n",
    "        image = Image.open(img_path)\n",
    "        image = self.rescale_crop(image)\n",
    "        target = self.img_labels['label'].iloc[idx_sample]\n",
    "        if self.transform:\n",
    "            image = self.transform(image)\n",
    "        if self.target_transform:\n",
    "            target = self.target_transform(target)\n",
    "        return image, target\n",
    "\n",
    "    def rescale_crop(self, image):\n",
    "        scale = self.scales[0]\n",
    "        w, h = image.size\n",
    "        trans = transforms.Compose([\n",
    "            transforms.CenterCrop((int(h * scale), int(w * scale))),\n",
    "            # transforms.Resize((224, 224))\n",
    "        ])\n",
    "\n",
    "        img = trans(image)\n",
    "\n",
    "        return img"
   ]
  },
  {
   "cell_type": "code",
   "execution_count": null,
   "metadata": {},
   "outputs": [],
   "source": [
    "test_data = FixedPatch(ann_test.df, pth_test, transform=transform)\n",
    "test_loader = data.DataLoader(test_data, batch_size=batch_size, shuffle=False)"
   ]
  },
  {
   "cell_type": "code",
   "execution_count": null,
   "metadata": {},
   "outputs": [],
   "source": [
    "%matplotlib inline\n",
    "import matplotlib.pyplot as plt\n",
    "import numpy as np\n",
    "\n",
    "feature_map = None\n",
    "def hook(model, inputs, outputs):\n",
    "    global feature_map\n",
    "    feature_map = outputs.cpu().detach()\n",
    "\n",
    "model.layer4.register_forward_hook(hook)\n",
    "\n",
    "weights = model.fc.weight.cpu().detach()\n",
    "\n",
    "test_loader = data.DataLoader(test_data, batch_size=8, shuffle=False)\n",
    "\n",
    "for x, y in test_loader:\n",
    "    mean = np.array([0.485, 0.456, 0.406])\n",
    "    std = np.array([0.229, 0.224, 0.225])\n",
    "    fig, axes = plt.subplots(2, 8, facecolor='#ffffff', dpi=100, figsize=(16, 4))\n",
    "    axes = [ax for ax in axes.flat]\n",
    "    for i in range(8):\n",
    "        img = x[i].detach().numpy().transpose((1, 2, 0))\n",
    "        img = img * std + mean\n",
    "        img = np.clip(img, 0, 1)\n",
    "        axes[i].imshow(img)\n",
    "        axes[i].axis(\"off\")\n",
    "    \n",
    "    model.eval()\n",
    "    x = x.to(device)\n",
    "    class_idx = y.detach()\n",
    "    z = model(x)\n",
    "    \n",
    "    cams = utils.CAM(feature_map, weights, class_idx)\n",
    "    for i in range(8, 16):\n",
    "        utils.draw_cam(axes[i], cams[i-8])\n",
    "        \n",
    "    plt.savefig('CAM.png')\n",
    "    plt.show()\n",
    "\n",
    "    break"
   ]
  }
 ],
 "metadata": {
  "interpreter": {
   "hash": "11608614dc3cb499a903f65b2116b9f07b688ea96b708ded1bd554c90e775c68"
  },
  "kernelspec": {
   "display_name": "Python (lab)",
   "language": "python",
   "name": "python3"
  },
  "language_info": {
   "codemirror_mode": {
    "name": "ipython",
    "version": 3
   },
   "file_extension": ".py",
   "mimetype": "text/x-python",
   "name": "python",
   "nbconvert_exporter": "python",
   "pygments_lexer": "ipython3",
   "version": "3.8.12"
  }
 },
 "nbformat": 4,
 "nbformat_minor": 4
}
